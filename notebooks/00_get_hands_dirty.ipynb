{
 "cells": [
  {
   "cell_type": "markdown",
   "id": "d2b23cce",
   "metadata": {},
   "source": [
    "https://github.com/xSzpo/lending-club/blob/master/02_notebooks/04_One_dim_analysis_feature_prep.ipynb      \n",
    "https://github.com/xSzpo/model_and_abtest/blob/master/notebooks/3.%20model.ipynb    \n",
    "https://geocoder.readthedocs.io/providers/OpenStreetMap.html    \n",
    "https://github.com/mediagis/nominatim-docker/tree/master/3.6   \n"
   ]
  },
  {
   "cell_type": "code",
   "execution_count": 17,
   "id": "715dbfe3",
   "metadata": {},
   "outputs": [],
   "source": [
    "import numpy as np\n",
    "import pandas as pd\n",
    "import re\n",
    "import geocoder\n"
   ]
  },
  {
   "cell_type": "code",
   "execution_count": 19,
   "id": "6fa68a2c",
   "metadata": {},
   "outputs": [],
   "source": [
    "%reload_kedro"
   ]
  },
  {
   "cell_type": "code",
   "execution_count": 20,
   "id": "6e31c8a1",
   "metadata": {},
   "outputs": [],
   "source": [
    "df_cust = catalog.load(\"customers\")"
   ]
  },
  {
   "cell_type": "code",
   "execution_count": 21,
   "id": "05e70d0a",
   "metadata": {},
   "outputs": [],
   "source": [
    "d_sex = {1: 'male', 2:'female', 0: 'other'}\n",
    "df_cust.sex = df_cust.sex.map(lambda x: d_sex[x])"
   ]
  },
  {
   "cell_type": "code",
   "execution_count": 22,
   "id": "0901d87b",
   "metadata": {},
   "outputs": [
    {
     "data": {
      "text/plain": [
       "(500000, 6)"
      ]
     },
     "execution_count": 22,
     "metadata": {},
     "output_type": "execute_result"
    }
   ],
   "source": [
    "df_cust.shape"
   ]
  },
  {
   "cell_type": "code",
   "execution_count": 23,
   "id": "afd18fa2",
   "metadata": {},
   "outputs": [
    {
     "data": {
      "text/html": [
       "<div>\n",
       "<style scoped>\n",
       "    .dataframe tbody tr th:only-of-type {\n",
       "        vertical-align: middle;\n",
       "    }\n",
       "\n",
       "    .dataframe tbody tr th {\n",
       "        vertical-align: top;\n",
       "    }\n",
       "\n",
       "    .dataframe thead th {\n",
       "        text-align: right;\n",
       "    }\n",
       "</style>\n",
       "<table border=\"1\" class=\"dataframe\">\n",
       "  <thead>\n",
       "    <tr style=\"text-align: right;\">\n",
       "      <th></th>\n",
       "      <th>customerID</th>\n",
       "      <th>age</th>\n",
       "      <th>Income</th>\n",
       "    </tr>\n",
       "  </thead>\n",
       "  <tbody>\n",
       "    <tr>\n",
       "      <th>count</th>\n",
       "      <td>500000.000000</td>\n",
       "      <td>500000.000000</td>\n",
       "      <td>490025.000000</td>\n",
       "    </tr>\n",
       "    <tr>\n",
       "      <th>mean</th>\n",
       "      <td>250000.500000</td>\n",
       "      <td>44.630508</td>\n",
       "      <td>50000.039182</td>\n",
       "    </tr>\n",
       "    <tr>\n",
       "      <th>std</th>\n",
       "      <td>144337.711635</td>\n",
       "      <td>16.178283</td>\n",
       "      <td>28899.119696</td>\n",
       "    </tr>\n",
       "    <tr>\n",
       "      <th>min</th>\n",
       "      <td>1.000000</td>\n",
       "      <td>5.000000</td>\n",
       "      <td>0.000000</td>\n",
       "    </tr>\n",
       "    <tr>\n",
       "      <th>25%</th>\n",
       "      <td>125000.750000</td>\n",
       "      <td>27.000000</td>\n",
       "      <td>25000.000000</td>\n",
       "    </tr>\n",
       "    <tr>\n",
       "      <th>50%</th>\n",
       "      <td>250000.500000</td>\n",
       "      <td>50.000000</td>\n",
       "      <td>50000.000000</td>\n",
       "    </tr>\n",
       "    <tr>\n",
       "      <th>75%</th>\n",
       "      <td>375000.250000</td>\n",
       "      <td>58.000000</td>\n",
       "      <td>75000.000000</td>\n",
       "    </tr>\n",
       "    <tr>\n",
       "      <th>max</th>\n",
       "      <td>500000.000000</td>\n",
       "      <td>90.000000</td>\n",
       "      <td>100000.000000</td>\n",
       "    </tr>\n",
       "  </tbody>\n",
       "</table>\n",
       "</div>"
      ],
      "text/plain": [
       "          customerID            age         Income\n",
       "count  500000.000000  500000.000000  490025.000000\n",
       "mean   250000.500000      44.630508   50000.039182\n",
       "std    144337.711635      16.178283   28899.119696\n",
       "min         1.000000       5.000000       0.000000\n",
       "25%    125000.750000      27.000000   25000.000000\n",
       "50%    250000.500000      50.000000   50000.000000\n",
       "75%    375000.250000      58.000000   75000.000000\n",
       "max    500000.000000      90.000000  100000.000000"
      ]
     },
     "execution_count": 23,
     "metadata": {},
     "output_type": "execute_result"
    }
   ],
   "source": [
    "df_cust.describe()"
   ]
  },
  {
   "cell_type": "markdown",
   "id": "d97d9ac8",
   "metadata": {},
   "source": [
    "```\n",
    "https://github.com/mediagis/nominatim-docker/tree/master/3.6\n",
    "\n",
    "\n",
    "docker run -it --rm \\\n",
    "  -e PBF_URL=https://download.geofabrik.de/europe/monaco-latest.osm.pbf \\\n",
    "  -e REPLICATION_URL=https://download.geofabrik.de/europe/monaco-updates/ \\\n",
    "  -e IMPORT_WIKIPEDIA=true \\\n",
    "  -p 8080:8080 \\\n",
    "  --name nominatim \\\n",
    "  mediagis/nominatim:3.6\n",
    "```"
   ]
  },
  {
   "cell_type": "code",
   "execution_count": 24,
   "id": "8bfbcdfd",
   "metadata": {},
   "outputs": [],
   "source": [
    "residentialAddress = df_cust.residentialAddress.apply(lambda x: re.sub(r'[0-9]+', '', x)).value_counts().index"
   ]
  },
  {
   "cell_type": "code",
   "execution_count": 28,
   "id": "a199c296",
   "metadata": {},
   "outputs": [],
   "source": [
    "residentialAddress = df_cust.residentialAddress.sample(10, random_state=1)"
   ]
  },
  {
   "cell_type": "code",
   "execution_count": 29,
   "id": "faec7ceb",
   "metadata": {},
   "outputs": [],
   "source": [
    "residentialAddress_geocoded = []"
   ]
  },
  {
   "cell_type": "code",
   "execution_count": 30,
   "id": "07e085c9",
   "metadata": {},
   "outputs": [
    {
     "data": {
      "text/plain": [
       "10"
      ]
     },
     "execution_count": 30,
     "metadata": {},
     "output_type": "execute_result"
    }
   ],
   "source": [
    "len(residentialAddress)"
   ]
  },
  {
   "cell_type": "code",
   "execution_count": 31,
   "id": "6256c579",
   "metadata": {},
   "outputs": [],
   "source": [
    "%%capture\n",
    "\n",
    "geocoder.osm('warsaw'.strip(), url='http://localhost:8080').json"
   ]
  },
  {
   "cell_type": "code",
   "execution_count": 32,
   "id": "a140455c",
   "metadata": {},
   "outputs": [],
   "source": [
    "for adr in residentialAddress:\n",
    "    residentialAddress_geocoded += [geocoder.osm(adr.strip()).json]\n"
   ]
  },
  {
   "cell_type": "code",
   "execution_count": 33,
   "id": "c5eede9b",
   "metadata": {},
   "outputs": [
    {
     "data": {
      "text/plain": [
       "Australia                 7\n",
       "United States             2\n",
       "New Zealand / Aotearoa    1\n",
       "Name: country, dtype: int64"
      ]
     },
     "execution_count": 33,
     "metadata": {},
     "output_type": "execute_result"
    }
   ],
   "source": [
    "pd.DataFrame(residentialAddress_geocoded).country.value_counts()"
   ]
  },
  {
   "cell_type": "code",
   "execution_count": 34,
   "id": "4da79b5a",
   "metadata": {},
   "outputs": [
    {
     "data": {
      "text/plain": [
       "x                        10119\n",
       " Boundary Road             480\n",
       " Thomas Street             427\n",
       " Victoria Street           390\n",
       " Princess Street           357\n",
       "                         ...  \n",
       " Spano Street               12\n",
       " Peter doherty Street       12\n",
       " Bay Terrace                12\n",
       " Nicoro Place               11\n",
       " Knapp Street               11\n",
       "Name: postalAddress, Length: 13261, dtype: int64"
      ]
     },
     "execution_count": 34,
     "metadata": {},
     "output_type": "execute_result"
    }
   ],
   "source": [
    "df_cust.postalAddress.fillna('x').apply(lambda x: re.sub(r'[0-9]+', '', x)).value_counts()"
   ]
  },
  {
   "cell_type": "code",
   "execution_count": 35,
   "id": "2cb85edc",
   "metadata": {},
   "outputs": [
    {
     "data": {
      "text/html": [
       "<div>\n",
       "<style scoped>\n",
       "    .dataframe tbody tr th:only-of-type {\n",
       "        vertical-align: middle;\n",
       "    }\n",
       "\n",
       "    .dataframe tbody tr th {\n",
       "        vertical-align: top;\n",
       "    }\n",
       "\n",
       "    .dataframe thead th {\n",
       "        text-align: right;\n",
       "    }\n",
       "</style>\n",
       "<table border=\"1\" class=\"dataframe\">\n",
       "  <thead>\n",
       "    <tr style=\"text-align: right;\">\n",
       "      <th></th>\n",
       "      <th>customerID</th>\n",
       "      <th>sex</th>\n",
       "      <th>age</th>\n",
       "      <th>residentialAddress</th>\n",
       "      <th>postalAddress</th>\n",
       "      <th>Income</th>\n",
       "    </tr>\n",
       "  </thead>\n",
       "  <tbody>\n",
       "    <tr>\n",
       "      <th>0</th>\n",
       "      <td>1</td>\n",
       "      <td>male</td>\n",
       "      <td>25</td>\n",
       "      <td>28 Irvine Place</td>\n",
       "      <td>28 Irvine Place</td>\n",
       "      <td>&lt;NA&gt;</td>\n",
       "    </tr>\n",
       "    <tr>\n",
       "      <th>1</th>\n",
       "      <td>2</td>\n",
       "      <td>male</td>\n",
       "      <td>19</td>\n",
       "      <td>72 Bertha Street</td>\n",
       "      <td>72 Bertha Street</td>\n",
       "      <td>43200</td>\n",
       "    </tr>\n",
       "    <tr>\n",
       "      <th>2</th>\n",
       "      <td>3</td>\n",
       "      <td>female</td>\n",
       "      <td>22</td>\n",
       "      <td>63 Ladberry Street</td>\n",
       "      <td>63 Ladberry Street</td>\n",
       "      <td>70200</td>\n",
       "    </tr>\n",
       "    <tr>\n",
       "      <th>3</th>\n",
       "      <td>4</td>\n",
       "      <td>other</td>\n",
       "      <td>24</td>\n",
       "      <td>98 Linneman Close</td>\n",
       "      <td>98 Linneman Close</td>\n",
       "      <td>93900</td>\n",
       "    </tr>\n",
       "    <tr>\n",
       "      <th>4</th>\n",
       "      <td>5</td>\n",
       "      <td>male</td>\n",
       "      <td>53</td>\n",
       "      <td>56 Salonica Road</td>\n",
       "      <td>56 Salonica Road</td>\n",
       "      <td>77000</td>\n",
       "    </tr>\n",
       "  </tbody>\n",
       "</table>\n",
       "</div>"
      ],
      "text/plain": [
       "   customerID     sex  age  residentialAddress       postalAddress  Income\n",
       "0           1    male   25     28 Irvine Place     28 Irvine Place    <NA>\n",
       "1           2    male   19    72 Bertha Street    72 Bertha Street   43200\n",
       "2           3  female   22  63 Ladberry Street  63 Ladberry Street   70200\n",
       "3           4   other   24   98 Linneman Close   98 Linneman Close   93900\n",
       "4           5    male   53    56 Salonica Road    56 Salonica Road   77000"
      ]
     },
     "execution_count": 35,
     "metadata": {},
     "output_type": "execute_result"
    }
   ],
   "source": [
    "df_cust.head()"
   ]
  },
  {
   "cell_type": "code",
   "execution_count": 36,
   "id": "c367a889",
   "metadata": {},
   "outputs": [],
   "source": [
    "df_trans= catalog.load(\"transactions\")"
   ]
  },
  {
   "cell_type": "code",
   "execution_count": 37,
   "id": "43dc2d8c",
   "metadata": {},
   "outputs": [
    {
     "data": {
      "text/plain": [
       "(2000000, 8)"
      ]
     },
     "execution_count": 37,
     "metadata": {},
     "output_type": "execute_result"
    }
   ],
   "source": [
    "df_trans.shape"
   ]
  },
  {
   "cell_type": "code",
   "execution_count": 38,
   "id": "3070efaa",
   "metadata": {},
   "outputs": [],
   "source": [
    "d_paymentStatus = {0: 'ok', 1:'late', 2: 'never'}\n",
    "df_trans.paymentStatus1 = df_trans.paymentStatus1.map(lambda x: d_paymentStatus[x])\n",
    "df_trans.paymentStatus2 = df_trans.paymentStatus2.map(lambda x: d_paymentStatus[x])\n",
    "df_trans.paymentStatus3 = df_trans.paymentStatus3.map(lambda x: d_paymentStatus[x])\n",
    "df_trans.paymentStatus4 = df_trans.paymentStatus4.map(lambda x: d_paymentStatus[x])"
   ]
  },
  {
   "cell_type": "code",
   "execution_count": 39,
   "id": "6976e6fa",
   "metadata": {},
   "outputs": [
    {
     "data": {
      "text/html": [
       "<div>\n",
       "<style scoped>\n",
       "    .dataframe tbody tr th:only-of-type {\n",
       "        vertical-align: middle;\n",
       "    }\n",
       "\n",
       "    .dataframe tbody tr th {\n",
       "        vertical-align: top;\n",
       "    }\n",
       "\n",
       "    .dataframe thead th {\n",
       "        text-align: right;\n",
       "    }\n",
       "</style>\n",
       "<table border=\"1\" class=\"dataframe\">\n",
       "  <thead>\n",
       "    <tr style=\"text-align: right;\">\n",
       "      <th></th>\n",
       "      <th>transactionID</th>\n",
       "      <th>shopID</th>\n",
       "      <th>customerID</th>\n",
       "      <th>price</th>\n",
       "      <th>paymentStatus1</th>\n",
       "      <th>paymentStatus2</th>\n",
       "      <th>paymentStatus3</th>\n",
       "      <th>paymentStatus4</th>\n",
       "    </tr>\n",
       "  </thead>\n",
       "  <tbody>\n",
       "    <tr>\n",
       "      <th>0</th>\n",
       "      <td>1</td>\n",
       "      <td>114</td>\n",
       "      <td>2869</td>\n",
       "      <td>140</td>\n",
       "      <td>ok</td>\n",
       "      <td>ok</td>\n",
       "      <td>ok</td>\n",
       "      <td>ok</td>\n",
       "    </tr>\n",
       "    <tr>\n",
       "      <th>1</th>\n",
       "      <td>2</td>\n",
       "      <td>855</td>\n",
       "      <td>124077</td>\n",
       "      <td>70</td>\n",
       "      <td>ok</td>\n",
       "      <td>ok</td>\n",
       "      <td>ok</td>\n",
       "      <td>ok</td>\n",
       "    </tr>\n",
       "    <tr>\n",
       "      <th>2</th>\n",
       "      <td>3</td>\n",
       "      <td>752</td>\n",
       "      <td>86184</td>\n",
       "      <td>85</td>\n",
       "      <td>ok</td>\n",
       "      <td>ok</td>\n",
       "      <td>ok</td>\n",
       "      <td>ok</td>\n",
       "    </tr>\n",
       "    <tr>\n",
       "      <th>3</th>\n",
       "      <td>4</td>\n",
       "      <td>246</td>\n",
       "      <td>248861</td>\n",
       "      <td>43</td>\n",
       "      <td>late</td>\n",
       "      <td>ok</td>\n",
       "      <td>ok</td>\n",
       "      <td>ok</td>\n",
       "    </tr>\n",
       "    <tr>\n",
       "      <th>4</th>\n",
       "      <td>5</td>\n",
       "      <td>973</td>\n",
       "      <td>162112</td>\n",
       "      <td>127</td>\n",
       "      <td>ok</td>\n",
       "      <td>ok</td>\n",
       "      <td>ok</td>\n",
       "      <td>ok</td>\n",
       "    </tr>\n",
       "  </tbody>\n",
       "</table>\n",
       "</div>"
      ],
      "text/plain": [
       "   transactionID  shopID  customerID  price paymentStatus1 paymentStatus2  \\\n",
       "0              1     114        2869    140             ok             ok   \n",
       "1              2     855      124077     70             ok             ok   \n",
       "2              3     752       86184     85             ok             ok   \n",
       "3              4     246      248861     43           late             ok   \n",
       "4              5     973      162112    127             ok             ok   \n",
       "\n",
       "  paymentStatus3 paymentStatus4  \n",
       "0             ok             ok  \n",
       "1             ok             ok  \n",
       "2             ok             ok  \n",
       "3             ok             ok  \n",
       "4             ok             ok  "
      ]
     },
     "execution_count": 39,
     "metadata": {},
     "output_type": "execute_result"
    }
   ],
   "source": [
    "df_trans.head()"
   ]
  },
  {
   "cell_type": "code",
   "execution_count": 40,
   "id": "b3b0d41b",
   "metadata": {},
   "outputs": [],
   "source": [
    "number_of_weeks = 52\n",
    "\n",
    "dates = dict([i for i in zip(range(number_of_weeks), pd.date_range(start='2020-01-01', end='2020-12-31',periods=number_of_weeks).map(lambda x: x.date()))])\n",
    "div = round(df_trans.shape[0]/(number_of_weeks-1),0)\n",
    "df_trans['pseudo_dates'] = df_trans.transactionID.apply(lambda x: int(round(x/div,0))).map(lambda x: dates[x])"
   ]
  },
  {
   "cell_type": "code",
   "execution_count": 41,
   "id": "d47534f7",
   "metadata": {},
   "outputs": [
    {
     "data": {
      "text/plain": [
       "61875     16\n",
       "270525    16\n",
       "47943     15\n",
       "86643     15\n",
       "110021    15\n",
       "          ..\n",
       "329694     1\n",
       "463876     1\n",
       "490432     1\n",
       "440232     1\n",
       "392512     1\n",
       "Name: customerID, Length: 490533, dtype: Int64"
      ]
     },
     "execution_count": 41,
     "metadata": {},
     "output_type": "execute_result"
    }
   ],
   "source": [
    "df_trans.customerID.value_counts()"
   ]
  },
  {
   "cell_type": "code",
   "execution_count": 42,
   "id": "8cd77963",
   "metadata": {},
   "outputs": [
    {
     "data": {
      "text/plain": [
       "847    2379\n",
       "589    2354\n",
       "280    2354\n",
       "102    2343\n",
       "234    2343\n",
       "       ... \n",
       "843    2103\n",
       "729    2102\n",
       "276    2093\n",
       "419    2088\n",
       "248    2087\n",
       "Name: shopID, Length: 900, dtype: Int64"
      ]
     },
     "execution_count": 42,
     "metadata": {},
     "output_type": "execute_result"
    }
   ],
   "source": [
    "df_trans.shopID.value_counts()"
   ]
  }
 ],
 "metadata": {
  "kernelspec": {
   "display_name": "viabill",
   "language": "python",
   "name": "python3"
  },
  "language_info": {
   "codemirror_mode": {
    "name": "ipython",
    "version": 3
   },
   "file_extension": ".py",
   "mimetype": "text/x-python",
   "name": "python",
   "nbconvert_exporter": "python",
   "pygments_lexer": "ipython3",
   "version": "3.8.8"
  }
 },
 "nbformat": 4,
 "nbformat_minor": 5
}
