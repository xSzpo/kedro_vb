{
 "cells": [
  {
   "cell_type": "code",
   "execution_count": 1,
   "id": "1bf1e724",
   "metadata": {},
   "outputs": [
    {
     "name": "stdout",
     "output_type": "stream",
     "text": [
      "2021-04-19 20:56:21,856 - root - INFO - Registered hooks from 2 installed plugin(s): kedro-mlflow-0.7.0\n",
      "2021-04-19 20:56:21,870 - kedro.framework.session.store - INFO - `read()` not implemented for `BaseSessionStore`. Assuming empty store.\n"
     ]
    },
    {
     "name": "stderr",
     "output_type": "stream",
     "text": [
      "/Users/xszpo/miniconda3/envs/viabill/lib/python3.8/site-packages/kedro/framework/project/__init__.py:133: UserWarning: Found duplicate pipeline entries. The following will be overwritten: __default__\n",
      "  warn(\n"
     ]
    },
    {
     "name": "stdout",
     "output_type": "stream",
     "text": [
      "2021-04-19 20:56:22,008 - root - INFO - ** Kedro project viabill\n",
      "2021-04-19 20:56:22,014 - root - INFO - Defined global variable `context`, `session` and `catalog`\n",
      "2021-04-19 20:56:22,065 - root - INFO - Registered line magic `run_viz`\n"
     ]
    }
   ],
   "source": [
    "%reload_kedro"
   ]
  },
  {
   "cell_type": "code",
   "execution_count": 2,
   "id": "45b56f4e",
   "metadata": {},
   "outputs": [],
   "source": [
    "import viabill\n",
    "\n"
   ]
  },
  {
   "cell_type": "code",
   "execution_count": 3,
   "id": "aa9b7aa7",
   "metadata": {},
   "outputs": [],
   "source": [
    "import warnings\n",
    "\n",
    "warnings.simplefilter(action='ignore', category=FutureWarning)\n",
    "warnings.simplefilter(action='ignore', category=DeprecationWarning)\n"
   ]
  },
  {
   "cell_type": "code",
   "execution_count": 4,
   "id": "26b48786",
   "metadata": {
    "scrolled": true
   },
   "outputs": [
    {
     "name": "stdout",
     "output_type": "stream",
     "text": [
      "2021-04-19 20:56:22,116 - kedro.io.data_catalog - INFO - Loading data from `df_train` (ParquetDataSet)...\n"
     ]
    }
   ],
   "source": [
    "df = catalog.load('df_train')"
   ]
  },
  {
   "cell_type": "code",
   "execution_count": 5,
   "id": "6066f0c8",
   "metadata": {},
   "outputs": [],
   "source": [
    "categorical_cols = ['sex', 'residentialAddress_clean',\n",
    "                    'postalAddress_clean', 'geo_risk_rank', 'shopID',\n",
    "                    'same_address']\n",
    "numerical_cols = ['age', 'income', 'price'] + \\\n",
    "    df.filter(regex='(^hist_)|(_lst_)').columns.to_list()\n",
    "target_column = ['default']"
   ]
  },
  {
   "cell_type": "code",
   "execution_count": 6,
   "id": "86bdcb89",
   "metadata": {},
   "outputs": [
    {
     "data": {
      "text/plain": [
       "['sex',\n",
       " 'residentialAddress_clean',\n",
       " 'postalAddress_clean',\n",
       " 'geo_risk_rank',\n",
       " 'shopID',\n",
       " 'same_address']"
      ]
     },
     "execution_count": 6,
     "metadata": {},
     "output_type": "execute_result"
    }
   ],
   "source": [
    "categorical_cols"
   ]
  },
  {
   "cell_type": "code",
   "execution_count": 7,
   "id": "3363f864",
   "metadata": {},
   "outputs": [
    {
     "data": {
      "text/plain": [
       "['age',\n",
       " 'income',\n",
       " 'price',\n",
       " 'hist_trans_count',\n",
       " 'hist_default_sum',\n",
       " 'hist_default_avg',\n",
       " 'hist_late_sum',\n",
       " 'hist_late_avg',\n",
       " 'hist_price_sum',\n",
       " 'hist_price_avg',\n",
       " 'default_lst_01_sum',\n",
       " 'defualted_payment_lst_01_sum',\n",
       " 'money_lost_lst_01_sum',\n",
       " 'late_lst_01_sum',\n",
       " 'price_lst_01_sum',\n",
       " 'late_payment_first_lst_01_sum',\n",
       " 'default_lst_01_avg',\n",
       " 'defualted_payment_lst_01_avg',\n",
       " 'money_lost_lst_01_avg',\n",
       " 'late_lst_01_avg',\n",
       " 'price_lst_01_avg',\n",
       " 'late_payment_first_lst_01_avg',\n",
       " 'default_lst_03_sum',\n",
       " 'defualted_payment_lst_03_sum',\n",
       " 'money_lost_lst_03_sum',\n",
       " 'late_lst_03_sum',\n",
       " 'price_lst_03_sum',\n",
       " 'late_payment_first_lst_03_sum',\n",
       " 'default_lst_03_avg',\n",
       " 'defualted_payment_lst_03_avg',\n",
       " 'money_lost_lst_03_avg',\n",
       " 'late_lst_03_avg',\n",
       " 'price_lst_03_avg',\n",
       " 'late_payment_first_lst_03_avg',\n",
       " 'default_lst_06_sum',\n",
       " 'defualted_payment_lst_06_sum',\n",
       " 'money_lost_lst_06_sum',\n",
       " 'late_lst_06_sum',\n",
       " 'price_lst_06_sum',\n",
       " 'late_payment_first_lst_06_sum',\n",
       " 'default_lst_06_avg',\n",
       " 'defualted_payment_lst_06_avg',\n",
       " 'money_lost_lst_06_avg',\n",
       " 'late_lst_06_avg',\n",
       " 'price_lst_06_avg',\n",
       " 'late_payment_first_lst_06_avg',\n",
       " 'default_lst_09_sum',\n",
       " 'defualted_payment_lst_09_sum',\n",
       " 'money_lost_lst_09_sum',\n",
       " 'late_lst_09_sum',\n",
       " 'price_lst_09_sum',\n",
       " 'late_payment_first_lst_09_sum',\n",
       " 'default_lst_09_avg',\n",
       " 'defualted_payment_lst_09_avg',\n",
       " 'money_lost_lst_09_avg',\n",
       " 'late_lst_09_avg',\n",
       " 'price_lst_09_avg',\n",
       " 'late_payment_first_lst_09_avg',\n",
       " 'default_lst_12_sum',\n",
       " 'defualted_payment_lst_12_sum',\n",
       " 'money_lost_lst_12_sum',\n",
       " 'late_lst_12_sum',\n",
       " 'price_lst_12_sum',\n",
       " 'late_payment_first_lst_12_sum',\n",
       " 'default_lst_12_avg',\n",
       " 'defualted_payment_lst_12_avg',\n",
       " 'money_lost_lst_12_avg',\n",
       " 'late_lst_12_avg',\n",
       " 'price_lst_12_avg',\n",
       " 'late_payment_first_lst_12_avg']"
      ]
     },
     "execution_count": 7,
     "metadata": {},
     "output_type": "execute_result"
    }
   ],
   "source": [
    "numerical_cols"
   ]
  },
  {
   "cell_type": "markdown",
   "id": "951773d6",
   "metadata": {},
   "source": [
    "# Category features"
   ]
  },
  {
   "cell_type": "code",
   "execution_count": 8,
   "id": "b515158f",
   "metadata": {},
   "outputs": [],
   "source": [
    "import numpy as np\n",
    "from collections import Counter\n"
   ]
  },
  {
   "cell_type": "code",
   "execution_count": 9,
   "id": "e35b55ce",
   "metadata": {},
   "outputs": [],
   "source": [
    "def calculate_IV(column, default_column = 'default', default_val=1, nondefault_val=0, df=df, ifprt = False):\n",
    "    \"\"\"\n",
    "    calculate IV - temporary implementation\n",
    "    \"\"\"\n",
    "    total = df.shape[0]\n",
    "    total_event = np.sum(df[default_column]==default_val)\n",
    "    total_nonevent= np.sum(df[default_column]==nondefault_val)\n",
    "\n",
    "    def total_prc(x): return np.round(len(x)/total,4)\n",
    "    def event_prc(x): return  np.round(len([i for i in list(x) if i==default_val])/total_event,4)\n",
    "    def nonevent_prc(x): return  np.round(len([i for i in list(x) if i==nondefault_val])/total_nonevent,4)\n",
    "    def woe(x): return np.log(nonevent_prc(x)/(event_prc(x)+np.finfo(float).eps))\n",
    "    def iv(x): return (nonevent_prc(x)-event_prc(x))*woe(x)\n",
    "\n",
    "    wyn = df[[column,default_column]].groupby(column).agg(\n",
    "        ['count',total_prc,event_prc, nonevent_prc, woe,iv\n",
    "        ])\n",
    "\n",
    "    if ifprt:\n",
    "        print(wyn)\n",
    "    IV = np.sum(wyn.iloc[:,-1])\n",
    "    if ifprt:\n",
    "        print(\"\\n IV value of variable '{}' is {}\".format(column,np.round(IV,4)))\n",
    "    return IV, wyn"
   ]
  },
  {
   "cell_type": "code",
   "execution_count": 10,
   "id": "241d5f28",
   "metadata": {},
   "outputs": [],
   "source": [
    "IV_cat = {}\n",
    "repl_dic = {}"
   ]
  },
  {
   "cell_type": "markdown",
   "id": "79bd170c",
   "metadata": {},
   "source": [
    "## Sex"
   ]
  },
  {
   "cell_type": "code",
   "execution_count": 11,
   "id": "a024aa9a",
   "metadata": {},
   "outputs": [
    {
     "name": "stdout",
     "output_type": "stream",
     "text": [
      "2021-04-19 20:56:24,129 - numexpr.utils - INFO - NumExpr defaulting to 4 threads.\n",
      "       default                                                     \n",
      "         count total_prc event_prc nonevent_prc       woe        iv\n",
      "sex                                                                \n",
      "female   63424    0.2001    0.3051       0.1896 -0.475723  0.054946\n",
      "male    237598    0.7497    0.6189       0.7627  0.208921  0.030043\n",
      "other    15920    0.0502    0.0760       0.0477 -0.465802  0.013182\n",
      "\n",
      " IV value of variable 'sex' is 0.0982\n"
     ]
    }
   ],
   "source": [
    "IV_cat['sex'], repl_dic['sex'] = calculate_IV('sex', default_column='default', ifprt=True)"
   ]
  },
  {
   "cell_type": "code",
   "execution_count": 12,
   "id": "eb591f50",
   "metadata": {},
   "outputs": [
    {
     "name": "stdout",
     "output_type": "stream",
     "text": [
      "          late                                                     \n",
      "         count total_prc event_prc nonevent_prc       woe        iv\n",
      "sex                                                                \n",
      "female   63424    0.2001    0.1552       0.2189  0.343900  0.021906\n",
      "male    237598    0.7497    0.8068       0.7258 -0.105801  0.008570\n",
      "other    15920    0.0502    0.0380       0.0553  0.375187  0.006491\n",
      "\n",
      " IV value of variable 'sex' is 0.037\n"
     ]
    }
   ],
   "source": [
    "IV_cat['sex'], repl_dic['sex'] = calculate_IV('sex', default_column='late', ifprt=True)"
   ]
  },
  {
   "cell_type": "markdown",
   "id": "d69e8c3b",
   "metadata": {},
   "source": [
    "## geo_risk_rank"
   ]
  },
  {
   "cell_type": "code",
   "execution_count": 13,
   "id": "80af77a3",
   "metadata": {},
   "outputs": [
    {
     "name": "stdout",
     "output_type": "stream",
     "text": [
      "              default                                                     \n",
      "                count total_prc event_prc nonevent_prc       woe        iv\n",
      "geo_risk_rank                                                             \n",
      "0               25518    0.0805    0.0676       0.0818  0.190669  0.002708\n",
      "1               58201    0.1836    0.1642       0.1856  0.122509  0.002622\n",
      "2               69972    0.2208    0.2169       0.2212  0.019631  0.000084\n",
      "3               76280    0.2407    0.2434       0.2404 -0.012402  0.000037\n",
      "4               60926    0.1922    0.2054       0.1909 -0.073210  0.001062\n",
      "5               26045    0.0822    0.1025       0.0801 -0.246587  0.005524\n",
      "\n",
      " IV value of variable 'geo_risk_rank' is 0.012\n"
     ]
    }
   ],
   "source": [
    "IV_cat['geo_risk_rank'], repl_dic['geo_risk_rank'] = calculate_IV('geo_risk_rank', default_column='default', ifprt=True)"
   ]
  },
  {
   "cell_type": "code",
   "execution_count": 14,
   "id": "2e90d41d",
   "metadata": {},
   "outputs": [
    {
     "name": "stdout",
     "output_type": "stream",
     "text": [
      "                late                                                         \n",
      "               count total_prc event_prc nonevent_prc           woe        iv\n",
      "geo_risk_rank                                                                \n",
      "0              25518    0.0805    0.0826       0.0797 -3.574009e-02  0.000104\n",
      "1              58201    0.1836    0.1840       0.1835 -2.721090e-03  0.000001\n",
      "2              69972    0.2208    0.2192       0.2214  9.986465e-03  0.000022\n",
      "3              76280    0.2407    0.2410       0.2405 -2.076844e-03  0.000001\n",
      "4              60926    0.1922    0.1922       0.1922 -1.110223e-15 -0.000000\n",
      "5              26045    0.0822    0.0811       0.0826  1.832672e-02  0.000027\n",
      "\n",
      " IV value of variable 'geo_risk_rank' is 0.0002\n"
     ]
    }
   ],
   "source": [
    "IV_cat['geo_risk_rank'], repl_dic['geo_risk_rank'] = calculate_IV('geo_risk_rank', default_column='late', ifprt=True)"
   ]
  },
  {
   "cell_type": "markdown",
   "id": "1de30df7",
   "metadata": {},
   "source": [
    "## same_address (postalAddress & residentialAddress)"
   ]
  },
  {
   "cell_type": "code",
   "execution_count": 15,
   "id": "507c8f1e",
   "metadata": {},
   "outputs": [
    {
     "name": "stdout",
     "output_type": "stream",
     "text": [
      "             default                                                     \n",
      "               count total_prc event_prc nonevent_prc       woe        iv\n",
      "same_address                                                             \n",
      "0              21970    0.0693    0.2387       0.0524 -1.516301  0.282487\n",
      "1             294972    0.9307    0.7613       0.9476  0.218905  0.040782\n",
      "\n",
      " IV value of variable 'same_address' is 0.3233\n"
     ]
    }
   ],
   "source": [
    "IV_cat['same_address'], repl_dic['same_address'] = calculate_IV('same_address', default_column='default', ifprt=True)"
   ]
  },
  {
   "cell_type": "code",
   "execution_count": 16,
   "id": "e10041d4",
   "metadata": {},
   "outputs": [
    {
     "name": "stdout",
     "output_type": "stream",
     "text": [
      "                late                                                     \n",
      "               count total_prc event_prc nonevent_prc       woe        iv\n",
      "same_address                                                             \n",
      "0              21970    0.0693    0.0621       0.0723  0.152078  0.001551\n",
      "1             294972    0.9307    0.9379       0.9277 -0.010935  0.000112\n",
      "\n",
      " IV value of variable 'same_address' is 0.0017\n"
     ]
    }
   ],
   "source": [
    "IV_cat['same_address'], repl_dic['same_address'] = calculate_IV('same_address', default_column='late', ifprt=True)"
   ]
  },
  {
   "cell_type": "markdown",
   "id": "7c55f3c4",
   "metadata": {},
   "source": [
    "## shopID"
   ]
  },
  {
   "cell_type": "code",
   "execution_count": 17,
   "id": "119eb6d7",
   "metadata": {},
   "outputs": [],
   "source": [
    "from sklearn.cluster import DBSCAN, KMeans, AgglomerativeClustering\n",
    "from sklearn.decomposition import PCA, IncrementalPCA\n",
    "from sklearn.preprocessing import MinMaxScaler, StandardScaler\n",
    "from sklearn.manifold import TSNE\n",
    "\n",
    "import pandas as pd\n",
    "import seaborn as sns\n",
    "import matplotlib.pyplot as plt "
   ]
  },
  {
   "cell_type": "code",
   "execution_count": 18,
   "id": "9ce9cc56",
   "metadata": {},
   "outputs": [
    {
     "name": "stdout",
     "output_type": "stream",
     "text": [
      "[t-SNE] Computing 61 nearest neighbors...\n",
      "[t-SNE] Indexed 899 samples in 0.001s...\n",
      "[t-SNE] Computed neighbors for 899 samples in 0.025s...\n",
      "[t-SNE] Computed conditional probabilities for sample 899 / 899\n",
      "[t-SNE] Mean sigma: 0.074406\n",
      "[t-SNE] KL divergence after 250 iterations with early exaggeration: 72.616844\n",
      "[t-SNE] KL divergence after 300 iterations: 1.368713\n"
     ]
    }
   ],
   "source": [
    "%matplotlib inline\n",
    "shopID_pca = df.groupby('shopID').agg(\n",
    "    default_rate=('default', 'mean'),\n",
    "    age_avg=('age', 'mean'),\n",
    "    price_avg=('price', 'mean'),\n",
    "    income_avg=('income','mean')\n",
    ")\n",
    "\n",
    "\n",
    "scaler = MinMaxScaler()\n",
    "X=scaler.fit_transform(shopID_pca)\n",
    "\n",
    "#pc = PCA(n_components=2, random_state=1)\n",
    "#X=pc.fit_transform(X)\n",
    "\n",
    "X = TSNE(n_components=2, verbose=1, perplexity=20, n_iter=300, random_state=1).fit_transform(X)\n"
   ]
  },
  {
   "cell_type": "code",
   "execution_count": 19,
   "id": "228d4b76",
   "metadata": {},
   "outputs": [
    {
     "data": {
      "text/plain": [
       "<AxesSubplot:xlabel='x', ylabel='y'>"
      ]
     },
     "execution_count": 19,
     "metadata": {},
     "output_type": "execute_result"
    },
    {
     "data": {
      "image/png": "[encoded data removed]",
      "text/plain": [
       "<Figure size 432x288 with 1 Axes>"
      ]
     },
     "metadata": {
      "needs_background": "light"
     },
     "output_type": "display_data"
    }
   ],
   "source": [
    "#clustering = DBSCAN(eps=0.07, min_samples=5).fit(X)\n",
    "clustering = KMeans(n_clusters=5).fit(X)\n",
    "set(clustering.labels_)\n",
    "\n",
    "pca_clusters = pd.DataFrame(X, columns=['x','y']).assign(\n",
    "    cluster=clustering.labels_, \n",
    "    dr=shopID_pca.default_rate)\n",
    "sns.scatterplot(data=pca_clusters, x=\"x\", y=\"y\", hue=\"cluster\")\n"
   ]
  },
  {
   "cell_type": "code",
   "execution_count": 20,
   "id": "1fbd3a83",
   "metadata": {},
   "outputs": [
    {
     "name": "stdout",
     "output_type": "stream",
     "text": [
      "               late                                                     \n",
      "              count total_prc event_prc nonevent_prc       woe        iv\n",
      "shop_cluster                                                            \n",
      "0             57109    0.1802    0.1816       0.1796 -0.011074  0.000022\n",
      "1             71777    0.2265    0.2257       0.2268  0.004862  0.000005\n",
      "2             57227    0.1806    0.1793       0.1811  0.009989  0.000018\n",
      "3             76224    0.2405    0.2399       0.2407  0.003329  0.000003\n",
      "4             54605    0.1723    0.1735       0.1718 -0.009847  0.000017\n",
      "\n",
      " IV value of variable 'shop_cluster' is 0.0001\n"
     ]
    }
   ],
   "source": [
    "shop_clusters = pd.DataFrame({'shopID':shopID_pca.index.to_list(), 'shop_cluster':clustering.labels_})\n",
    "IV_cat['shop_cluster'], repl_dic['shop_cluster'] = calculate_IV('shop_cluster', default_column='late', df=df.merge(shop_clusters, on='shopID', how='left'), ifprt=True)\n"
   ]
  },
  {
   "cell_type": "markdown",
   "id": "87dad067",
   "metadata": {},
   "source": [
    "## residentialAddress_clean"
   ]
  },
  {
   "cell_type": "code",
   "execution_count": null,
   "id": "4823f53a",
   "metadata": {},
   "outputs": [
    {
     "name": "stdout",
     "output_type": "stream",
     "text": [
      "[t-SNE] Computing 91 nearest neighbors...\n",
      "[t-SNE] Indexed 13260 samples in 0.005s...\n",
      "[t-SNE] Computed neighbors for 13260 samples in 0.639s...\n",
      "[t-SNE] Computed conditional probabilities for sample 1000 / 13260\n",
      "[t-SNE] Computed conditional probabilities for sample 2000 / 13260\n",
      "[t-SNE] Computed conditional probabilities for sample 3000 / 13260\n",
      "[t-SNE] Computed conditional probabilities for sample 4000 / 13260\n",
      "[t-SNE] Computed conditional probabilities for sample 5000 / 13260\n",
      "[t-SNE] Computed conditional probabilities for sample 6000 / 13260\n",
      "[t-SNE] Computed conditional probabilities for sample 7000 / 13260\n",
      "[t-SNE] Computed conditional probabilities for sample 8000 / 13260\n",
      "[t-SNE] Computed conditional probabilities for sample 9000 / 13260\n",
      "[t-SNE] Computed conditional probabilities for sample 10000 / 13260\n",
      "[t-SNE] Computed conditional probabilities for sample 11000 / 13260\n",
      "[t-SNE] Computed conditional probabilities for sample 12000 / 13260\n",
      "[t-SNE] Computed conditional probabilities for sample 13000 / 13260\n",
      "[t-SNE] Computed conditional probabilities for sample 13260 / 13260\n",
      "[t-SNE] Mean sigma: 0.033114\n"
     ]
    }
   ],
   "source": [
    "residentialAddress_clean_pca = df.groupby('residentialAddress_clean').agg(\n",
    "    default_rate=('default', 'mean'),\n",
    "    age_avg=('age', 'mean'),\n",
    "    price_avg=('price', 'mean'),\n",
    "    income_avg=('income','mean')\n",
    ")\n",
    "\n",
    "scaler = MinMaxScaler()\n",
    "X=scaler.fit_transform(residentialAddress_clean_pca)\n",
    "\n",
    "X = TSNE(n_components=2, verbose=1, perplexity=30, n_iter=300, random_state=1).fit_transform(X)\n",
    "\n"
   ]
  },
  {
   "cell_type": "code",
   "execution_count": null,
   "id": "962ce7af",
   "metadata": {},
   "outputs": [],
   "source": [
    "%matplotlib inline\n",
    "#clustering = DBSCAN(eps=0.32, min_samples=10).fit(X)\n",
    "clustering = KMeans(n_clusters=7).fit(X)\n",
    "#clustering = AgglomerativeClustering(n_clusters=4).fit(X)\n",
    "set(clustering.labels_)\n",
    "\n",
    "pca_clusters = pd.DataFrame(X, columns=['x','y']).assign(\n",
    "    cluster=clustering.labels_, \n",
    "    dr=residentialAddress_clean_pca.default_rate)\n",
    "sns.scatterplot(data=pca_clusters, x=\"x\", y=\"y\", hue=\"cluster\")\n"
   ]
  },
  {
   "cell_type": "code",
   "execution_count": null,
   "id": "cb90ee99",
   "metadata": {},
   "outputs": [],
   "source": [
    "residentialAddress_clusters = pd.DataFrame({'residentialAddress_clean': residentialAddress_clean_pca.index.to_list(), \n",
    "              'residentialAddress_cluster':clustering.labels_})\n",
    "\n",
    "IV_cat['residentialAddress_cluster'], repl_dic['residentialAddress_cluster'] = calculate_IV('residentialAddress_cluster', default_column='late', df=df.merge(residentialAddress_clusters, on='residentialAddress_clean', how='left'), ifprt=True)\n"
   ]
  },
  {
   "cell_type": "markdown",
   "id": "f719cbd1",
   "metadata": {},
   "source": [
    "## postalAddress_clean"
   ]
  },
  {
   "cell_type": "code",
   "execution_count": null,
   "id": "01d911f2",
   "metadata": {},
   "outputs": [],
   "source": [
    "postalAddress_clean_pca = df.groupby('postalAddress_clean').agg(\n",
    "    default_rate=('default', 'mean'),\n",
    "    age_avg=('age', 'mean'),\n",
    "    price_avg=('price', 'mean'),\n",
    "    income_avg=('income','mean')\n",
    ")\n",
    "\n",
    "scaler = MinMaxScaler()\n",
    "X=scaler.fit_transform(postalAddress_clean_pca)\n",
    "\n",
    "X = TSNE(n_components=2, verbose=1, perplexity=30, n_iter=300, random_state=1).fit_transform(X)\n",
    "\n"
   ]
  },
  {
   "cell_type": "code",
   "execution_count": null,
   "id": "0ef5b3e2",
   "metadata": {},
   "outputs": [],
   "source": [
    "%matplotlib inline\n",
    "#clustering = DBSCAN(eps=0.32, min_samples=10).fit(X)\n",
    "clustering = KMeans(n_clusters=7).fit(X)\n",
    "#clustering = AgglomerativeClustering(n_clusters=4).fit(X)\n",
    "set(clustering.labels_)\n",
    "\n",
    "pca_clusters = pd.DataFrame(X, columns=['x','y']).assign(\n",
    "    cluster=clustering.labels_, \n",
    "    dr=postalAddress_clean_pca.default_rate)\n",
    "sns.scatterplot(data=pca_clusters, x=\"x\", y=\"y\", hue=\"cluster\")\n",
    "\n"
   ]
  },
  {
   "cell_type": "code",
   "execution_count": null,
   "id": "95989e0b",
   "metadata": {},
   "outputs": [],
   "source": [
    "postalAddress_clusters = pd.DataFrame({'postalAddress_clean': postalAddress_clean_pca.index.to_list(), \n",
    "              'postalAddress_cluster':clustering.labels_})\n",
    "\n",
    "IV_cat['postalAddress_cluster'], repl_dic['postalAddress_cluster'] = calculate_IV('postalAddress_cluster', default_column='late', df=df.merge(postalAddress_clusters, on='postalAddress_clean', how='left'), ifprt=True)\n"
   ]
  },
  {
   "cell_type": "markdown",
   "id": "14da9b9a",
   "metadata": {},
   "source": [
    "# Numerical"
   ]
  },
  {
   "cell_type": "code",
   "execution_count": null,
   "id": "83f8608a",
   "metadata": {},
   "outputs": [],
   "source": [
    "import matplotlib\n"
   ]
  },
  {
   "cell_type": "code",
   "execution_count": null,
   "id": "189e1ab2",
   "metadata": {},
   "outputs": [],
   "source": [
    "from sklearn.preprocessing import KBinsDiscretizer"
   ]
  },
  {
   "cell_type": "code",
   "execution_count": null,
   "id": "f7f32a25",
   "metadata": {},
   "outputs": [],
   "source": [
    "est = viabill.pipelines.model.DecisionTreeDiscretizer_DF(max_depth = 3, min_samples_prc_leaf=0.05)"
   ]
  },
  {
   "cell_type": "code",
   "execution_count": null,
   "id": "357adb83",
   "metadata": {},
   "outputs": [],
   "source": [
    "num2cat_np = est.fit_transform(df[numerical_cols].fillna({'income':-999}), df.default)\n",
    "num2cat = pd.DataFrame(num2cat_np, columns=num2cat_np.columns)"
   ]
  },
  {
   "cell_type": "code",
   "execution_count": null,
   "id": "256a83d3",
   "metadata": {},
   "outputs": [],
   "source": [
    "IV_num = {}\n",
    "df_IV_num = {}\n",
    "\n",
    "for col in num2cat.columns.to_list():\n",
    "    IV_num[col], df_IV_num[col] = calculate_IV(col, default_column='default', df=pd.concat([num2cat,df['default']], axis=1))\n"
   ]
  },
  {
   "cell_type": "code",
   "execution_count": null,
   "id": "1f6b71b9",
   "metadata": {},
   "outputs": [],
   "source": [
    "pd.DataFrame([(i,IV_num[i]) for i in IV_num], columns=['feature', 'iv']).sort_values('iv', ascending=False).query(\"iv>0.01\").reset_index()\n"
   ]
  },
  {
   "cell_type": "code",
   "execution_count": null,
   "id": "b6167e6e",
   "metadata": {},
   "outputs": [],
   "source": [
    "best_numerical_default = pd.DataFrame([(i,IV_num[i]) for i in IV_num], columns=['feature', 'iv']).sort_values('iv', ascending=False).query(\"iv>0.05\").reset_index(drop=True)\n",
    "best_numerical_default"
   ]
  },
  {
   "cell_type": "code",
   "execution_count": null,
   "id": "5e593ba2",
   "metadata": {},
   "outputs": [],
   "source": [
    "IV_num_late = {}\n",
    "df_IV_num_late = {}\n",
    "\n",
    "for col in num2cat.columns.to_list():\n",
    "    IV_num_late[col], df_IV_num_late[col] = calculate_IV(col, default_column='late', df=pd.concat([num2cat,df['late']], axis=1))\n"
   ]
  },
  {
   "cell_type": "code",
   "execution_count": null,
   "id": "d166121c",
   "metadata": {},
   "outputs": [],
   "source": [
    "best_numerical_late = pd.DataFrame([(i,IV_num_late[i]) for i in IV_num_late], columns=['feature', 'iv']).sort_values('iv', ascending=False).query(\"iv>0.01\")\n",
    "best_numerical_late\n"
   ]
  },
  {
   "cell_type": "code",
   "execution_count": null,
   "id": "1c19853a",
   "metadata": {},
   "outputs": [],
   "source": [
    "list_bnd = best_numerical_default.feature.to_list()+['income']"
   ]
  },
  {
   "cell_type": "code",
   "execution_count": null,
   "id": "3c8a4fbb",
   "metadata": {},
   "outputs": [],
   "source": [
    "sns.set_style(\"whitegrid\")\n",
    "fig = plt.figure(figsize=(16,26))\n",
    "gs = matplotlib.gridspec.GridSpec(nrows=5, \n",
    "                       ncols=3, \n",
    "                       figure=fig, \n",
    "                       wspace=0.3,\n",
    "                       hspace=0.3)\n",
    "\n",
    "ax_dic = {}\n",
    "\n",
    "\n",
    "\n",
    "\n",
    "counter = 0\n",
    "for row in range(5):\n",
    "    for col in range(3):\n",
    "        if counter < len(list_bnd):\n",
    "            col_name = list_bnd[counter]\n",
    "            ax_dic[counter] = fig.add_subplot(gs[row, col])\n",
    "            sns.regplot(x=col_name, y=\"default\",logistic=True,y_jitter=.03,\n",
    "                        data=df.sample(1000, random_state=666), x_bins=10, ax=ax_dic[counter])\n",
    "            ax_dic[counter].set_title(col_name,fontsize=18)\n",
    "            counter +=1\n",
    "        "
   ]
  },
  {
   "cell_type": "code",
   "execution_count": null,
   "id": "4acc3187",
   "metadata": {},
   "outputs": [],
   "source": [
    "list_bnl = best_numerical_late.feature.to_list()+['income']"
   ]
  },
  {
   "cell_type": "code",
   "execution_count": null,
   "id": "8346095c",
   "metadata": {},
   "outputs": [],
   "source": [
    "sns.set_style(\"whitegrid\")\n",
    "fig = plt.figure(figsize=(16,26))\n",
    "gs = matplotlib.gridspec.GridSpec(nrows=5, \n",
    "                       ncols=3, \n",
    "                       figure=fig, \n",
    "                       wspace=0.3,\n",
    "                       hspace=0.3)\n",
    "\n",
    "ax_dic = {}\n",
    "\n",
    "\n",
    "\n",
    "\n",
    "counter = 0\n",
    "for row in range(5):\n",
    "    for col in range(3):\n",
    "        if counter < len(list_bnl):\n",
    "            col_name = list_bnl[counter]\n",
    "            ax_dic[counter] = fig.add_subplot(gs[row, col])\n",
    "            sns.regplot(x=col_name, y=\"late\",logistic=True,y_jitter=.03,\n",
    "                        data=df.sample(1000, random_state=666), x_bins=10, ax=ax_dic[counter])\n",
    "            ax_dic[counter].set_title(col_name,fontsize=18)\n",
    "            counter +=1\n",
    "        "
   ]
  }
 ],
 "metadata": {
  "kernelspec": {
   "display_name": "viabill",
   "language": "python",
   "name": "python3"
  },
  "language_info": {
   "codemirror_mode": {
    "name": "ipython",
    "version": 3
   },
   "file_extension": ".py",
   "mimetype": "text/x-python",
   "name": "python",
   "nbconvert_exporter": "python",
   "pygments_lexer": "ipython3",
   "version": "3.8.8"
  }
 },
 "nbformat": 4,
 "nbformat_minor": 5
}
