{
 "cells": [
  {
   "cell_type": "markdown",
   "id": "aac9b968",
   "metadata": {},
   "source": [
    "# Description"
   ]
  },
  {
   "cell_type": "markdown",
   "id": "21253a2c",
   "metadata": {},
   "source": [
    "Create new features based on clients transaction history."
   ]
  },
  {
   "cell_type": "markdown",
   "id": "dadfaf35",
   "metadata": {},
   "source": [
    "# Prepare data \n"
   ]
  },
  {
   "cell_type": "code",
   "execution_count": 1,
   "id": "ee369c17",
   "metadata": {},
   "outputs": [],
   "source": [
    "import numpy as np\n",
    "import pandas as pd\n",
    "import re\n",
    "import seaborn as sns\n",
    "import matplotlib.pyplot as plt \n",
    "from scipy.stats import chi2_contingency\n",
    "import geocoder\n",
    "import statistics\n",
    "import time"
   ]
  },
  {
   "cell_type": "code",
   "execution_count": 2,
   "id": "15f81d8b",
   "metadata": {},
   "outputs": [
    {
     "name": "stderr",
     "output_type": "stream",
     "text": [
      "/Users/xszpo/miniconda3/envs/viabill/lib/python3.8/site-packages/kedro/framework/project/__init__.py:133: UserWarning: Found duplicate pipeline entries. The following will be overwritten: __default__\n",
      "  warn(\n"
     ]
    }
   ],
   "source": [
    "%reload_kedro"
   ]
  },
  {
   "cell_type": "code",
   "execution_count": 3,
   "id": "b114a122",
   "metadata": {},
   "outputs": [],
   "source": [
    "df_cust = catalog.load(\"customers\")\n",
    "d_sex = {1: 'male', 2:'female', 0: 'other'}\n",
    "df_cust.sex = df_cust.sex.apply(lambda x: d_sex[x])\n",
    "\n",
    "df_cust['residentialAddress_clean'] = df_cust.residentialAddress.apply(lambda x: re.sub(r'[0-9]+', '', x))\n",
    "df_cust['postalAddress_clean']  = df_cust.postalAddress.apply(lambda x: re.sub(r'[0-9]+', '', x) if x==x else '')\n",
    "df_cust['same_address'] = (df_cust.residentialAddress==df_cust.postalAddress).astype(int)\n"
   ]
  },
  {
   "cell_type": "markdown",
   "id": "9269d600",
   "metadata": {},
   "source": [
    "## Perform some basic future engineering"
   ]
  },
  {
   "cell_type": "code",
   "execution_count": 4,
   "id": "c26fa484",
   "metadata": {},
   "outputs": [],
   "source": [
    "df_trans = catalog.load(\"transactions\")\n",
    "df_trans['late'] = df_trans.filter(regex='payment').apply(lambda x: x==1).any(axis=1).astype(int)\n",
    "df_trans['default'] = df_trans.filter(regex='payment').apply(lambda x: x==2).any(axis=1).astype(int)\n",
    "\n",
    "df_trans[\"defualted_payment\"] = df_trans.replace({\n",
    "    'paymentStatus1': {1: 0, 2: 1},\n",
    "    'paymentStatus2': {1: 0, 2: 2},\n",
    "    'paymentStatus3': {1: 0, 2: 3},\n",
    "    'paymentStatus4': {1: 0, 2: 4},\n",
    "}).filter(regex='payment').replace({0: np.nan}).min(axis=1).fillna(0)\n",
    "\n",
    "df_trans[\"late_payment_first\"] = df_trans.replace({\n",
    "    'paymentStatus1': {1: 1, 2: 0},\n",
    "    'paymentStatus2': {1: 2, 2: 0},\n",
    "    'paymentStatus3': {1: 3, 2: 0},\n",
    "    'paymentStatus4': {1: 4, 2: 0},\n",
    "}).filter(regex='payment').replace({0: np.nan}).min(axis=1).fillna(0)"
   ]
  },
  {
   "cell_type": "code",
   "execution_count": 5,
   "id": "f370a85b",
   "metadata": {},
   "outputs": [],
   "source": [
    "df_trans = df_trans.assign(\n",
    "    money_lost = lambda x: x.apply(\n",
    "        lambda y:y['price'] * (5-y['defualted_payment'])/4 if y['defualted_payment']>0 else 0, axis=1\n",
    "    )\n",
    ")"
   ]
  },
  {
   "cell_type": "code",
   "execution_count": 6,
   "id": "375566b3",
   "metadata": {},
   "outputs": [],
   "source": [
    "# mark transactions from shop 113 as a fraud\n",
    "df_trans['fraud'] = 0\n",
    "df_trans.loc[df_trans.shopID == 113, 'fraud'] = 1"
   ]
  },
  {
   "cell_type": "code",
   "execution_count": 7,
   "id": "cf4f9025",
   "metadata": {},
   "outputs": [],
   "source": [
    "# drop transaction marked as a fraud and transaction without customerID\n",
    "df_trans = df_trans.loc[df_trans.fraud == 0].dropna(\n",
    "    subset=['customerID']).reset_index(drop=True)"
   ]
  },
  {
   "cell_type": "code",
   "execution_count": 8,
   "id": "2ccf7e8d",
   "metadata": {},
   "outputs": [],
   "source": [
    "# rank customer transactions\n",
    "df_trans['rank'] = df_trans.groupby(\"customerID\")[\"transactionID\"].rank(\n",
    "    \"dense\", ascending=True)"
   ]
  },
  {
   "cell_type": "code",
   "execution_count": 9,
   "id": "97e1af6b",
   "metadata": {},
   "outputs": [],
   "source": [
    "# create default lag - informtion about default from previous cutomers\n",
    "# transaction\n",
    "df_trans['default_lag1'] = df_trans. \\\n",
    "    set_index('rank'). \\\n",
    "    groupby('customerID')[['default']]. \\\n",
    "    shift(1).reset_index(drop=True)\n",
    "\n",
    "# create defualted_payment lag - informtion about number of defaulte\n",
    "# payment from previous cutomers transaction\n",
    "df_trans['defualted_payment_lag1'] = df_trans. \\\n",
    "    set_index('rank'). \\\n",
    "    groupby('customerID')[['defualted_payment']]. \\\n",
    "    shift(1).reset_index(drop=True)\n",
    "\n",
    "# create lost lag - informtion about lost from previous cutomers\n",
    "# transaction\n",
    "df_trans['money_lost_lag1'] = df_trans. \\\n",
    "    set_index('rank'). \\\n",
    "    groupby('customerID')[['money_lost']]. \\\n",
    "    shift(1).reset_index(drop=True)\n",
    "\n",
    "# create late payment lag - infroamtion about late payment from previous\n",
    "# cutomer transaction\n",
    "df_trans['late_lag1'] = df_trans. \\\n",
    "    set_index('rank'). \\\n",
    "    groupby('customerID')[['late']]. \\\n",
    "    shift(1).reset_index(drop=True)\n",
    "\n",
    "# create price lag\n",
    "df_trans['price_lag1'] = df_trans. \\\n",
    "    set_index('rank'). \\\n",
    "    groupby('customerID')[['price']]. \\\n",
    "    shift(1).reset_index(drop=True)\n",
    "\n",
    "# create late_payment_first lag - informtion about number payment which\n",
    "# was late as first from previous cutomers transaction\n",
    "df_trans['late_payment_first_lag1'] = df_trans. \\\n",
    "    set_index('rank'). \\\n",
    "    groupby('customerID')[['late_payment_first']]. \\\n",
    "    shift(1).reset_index(drop=True)\n"
   ]
  },
  {
   "cell_type": "code",
   "execution_count": 10,
   "id": "b95d85da",
   "metadata": {},
   "outputs": [],
   "source": [
    "# \n",
    "trans_back_aggreg_list = [3,6,9]"
   ]
  },
  {
   "cell_type": "code",
   "execution_count": 11,
   "id": "1b949554",
   "metadata": {},
   "outputs": [
    {
     "name": "stdout",
     "output_type": "stream",
     "text": [
      "starting aggregation for #3 transactions back\n",
      "--- 603.1424798965454 seconds ---\n",
      "starting aggregation for #6 transactions back\n",
      "--- 1370.2203180789948 seconds ---\n",
      "starting aggregation for #9 transactions back\n",
      "--- 1882.3201460838318 seconds ---\n"
     ]
    }
   ],
   "source": [
    "# aggregate data about previouse customer transactions using window\n",
    "# functions\n",
    "\n",
    "start_time = time.time()\n",
    "\n",
    "aggreate_list = df_trans.filter(regex=\"lag\").columns.to_list()\n",
    "\n",
    "results = []\n",
    "for i in trans_back_aggreg_list:\n",
    "\n",
    "    print(f\"starting aggregation for #{i} transactions back\")\n",
    "    names_sum = [f'{k}_lst_{str(i).zfill(2)}_sum' for k in list(map(lambda x: x.replace('_lag1',''), aggreate_list))]\n",
    "    names_avg = [f'{k}_lst_{str(i).zfill(2)}_avg' for k in list(map(lambda x: x.replace('_lag1',''), aggreate_list))]\n",
    "\n",
    "    if len(results) == 0 or len(trans_back_aggreg_list) <= 1:\n",
    "        results += [pd.concat([\n",
    "            df_trans.set_index('rank').groupby('customerID')[aggreate_list].rolling(i, min_periods=1).sum().reset_index(),\n",
    "            df_trans.set_index('rank').groupby('customerID')[aggreate_list].rolling(i, min_periods=1).mean().reset_index().iloc[:, 2:]\n",
    "            ], axis=1)]\n",
    "\n",
    "        results[-1].columns = ['customerID', 'rank']+names_sum+names_avg\n",
    "    else:\n",
    "        results += [pd.concat([\n",
    "            df_trans.set_index('rank').groupby('customerID')[aggreate_list].rolling(i, min_periods=1).sum().reset_index().iloc[:, 2:],\n",
    "            df_trans.set_index('rank').groupby('customerID')[aggreate_list].rolling(i, min_periods=1).mean().reset_index().iloc[:, 2:]\n",
    "            ], axis=1)]\n",
    "\n",
    "        results[-1].columns = names_sum+names_avg\n",
    "\n",
    "    print(\"--- %s seconds ---\" % (time.time() - start_time))\n",
    "\n"
   ]
  },
  {
   "cell_type": "code",
   "execution_count": 12,
   "id": "b457f98a",
   "metadata": {},
   "outputs": [],
   "source": [
    "defaults = pd.concat(results, axis=1)\n",
    "df_trans_all = df_trans.merge(defaults, on=['customerID', 'rank'],\n",
    "                              how='left')"
   ]
  },
  {
   "cell_type": "code",
   "execution_count": 13,
   "id": "5e777312",
   "metadata": {},
   "outputs": [],
   "source": [
    "\n",
    "# treat last customer transaction as current credit application\n",
    "df_trans['rank_reverse'] = df_trans.groupby(\"customerID\")[\"transactionID\"]. \\\n",
    "    rank(\"dense\", ascending=False)"
   ]
  },
  {
   "cell_type": "code",
   "execution_count": 14,
   "id": "63c45e06",
   "metadata": {},
   "outputs": [],
   "source": [
    "# split transactions into current transaction and historical\n",
    "df_trans_newest = df_trans.loc[df_trans.rank_reverse == 1]. \\\n",
    "    reset_index(drop=True)\n",
    "df_trans_history = df_trans.loc[df_trans.rank_reverse > 1].\\\n",
    "    reset_index(drop=True)"
   ]
  },
  {
   "cell_type": "code",
   "execution_count": 15,
   "id": "42bf59cb",
   "metadata": {},
   "outputs": [],
   "source": [
    "# aggregate transaction history\n",
    "df_trans_history_aggr = df_trans_history. \\\n",
    "    groupby('customerID'). \\\n",
    "    agg(\n",
    "        hist_trans_count=('default', 'count'),\n",
    "        hist_default_sum=('default', 'sum'),\n",
    "        hist_default_avg=('default', 'mean'),\n",
    "        hist_late_sum=('late', 'sum'),\n",
    "        hist_late_avg=('late', 'mean'),\n",
    "        hist_price_sum=('price', 'sum'),\n",
    "        hist_price_avg=('price', 'mean')\n",
    "    ).reset_index(drop=False)"
   ]
  },
  {
   "cell_type": "code",
   "execution_count": 16,
   "id": "ce945dfd",
   "metadata": {},
   "outputs": [],
   "source": [
    "# join historical transaction features created by aggregation all values\n",
    "df_trans_newest = df_trans_newest.merge(\n",
    "    df_trans_history_aggr, on='customerID', how='left')\n",
    "\n",
    "# join historical transaction features created by window functions\n",
    "df_trans = df_trans_newest.merge(\n",
    "    defaults, on=['customerID', 'rank'], how='left')"
   ]
  },
  {
   "cell_type": "code",
   "execution_count": 17,
   "id": "d86ac6c2",
   "metadata": {},
   "outputs": [],
   "source": [
    "master_table = df_cust.merge(df_trans, on=['customerID'], how='left')"
   ]
  },
  {
   "cell_type": "code",
   "execution_count": 18,
   "id": "8163cb09",
   "metadata": {},
   "outputs": [],
   "source": [
    "# create geo risk ranking\n",
    "# temporary solution, if used in final solution, need to prepare in fit/transform maner\n",
    "bins = [-np.inf, 0.049, 0.071, 0.088, 0.107, 0.137, np.inf]\n",
    "geo_risk_rank = master_table.groupby('residentialAddress_clean')[['hist_default_sum', 'hist_trans_count']]. \\\n",
    "    sum().reset_index(). \\\n",
    "    assign(geo_risk_rank=lambda x: pd.cut(x['hist_default_sum']/x['hist_trans_count'], bins).cat.codes)\n",
    "\n"
   ]
  },
  {
   "cell_type": "code",
   "execution_count": 19,
   "id": "4f4987fa",
   "metadata": {},
   "outputs": [],
   "source": [
    "master_table = master_table.merge(geo_risk_rank[['residentialAddress_clean', 'geo_risk_rank']], on='residentialAddress_clean', how='left')\n",
    "\n",
    "# drop clients without transactions\n",
    "master_table = master_table.dropna(subset=['default'])\n"
   ]
  },
  {
   "cell_type": "code",
   "execution_count": 20,
   "id": "3a216278",
   "metadata": {},
   "outputs": [
    {
     "data": {
      "text/html": [
       "<div>\n",
       "<style scoped>\n",
       "    .dataframe tbody tr th:only-of-type {\n",
       "        vertical-align: middle;\n",
       "    }\n",
       "\n",
       "    .dataframe tbody tr th {\n",
       "        vertical-align: top;\n",
       "    }\n",
       "\n",
       "    .dataframe thead th {\n",
       "        text-align: right;\n",
       "    }\n",
       "</style>\n",
       "<table border=\"1\" class=\"dataframe\">\n",
       "  <thead>\n",
       "    <tr style=\"text-align: right;\">\n",
       "      <th></th>\n",
       "      <th>count</th>\n",
       "      <th>mean</th>\n",
       "      <th>std</th>\n",
       "      <th>min</th>\n",
       "      <th>25%</th>\n",
       "      <th>50%</th>\n",
       "      <th>75%</th>\n",
       "      <th>max</th>\n",
       "    </tr>\n",
       "  </thead>\n",
       "  <tbody>\n",
       "    <tr>\n",
       "      <th>customerID</th>\n",
       "      <td>490496.0</td>\n",
       "      <td>2.499744e+05</td>\n",
       "      <td>144333.696329</td>\n",
       "      <td>1.0</td>\n",
       "      <td>124989.75</td>\n",
       "      <td>249979.50</td>\n",
       "      <td>374975.25</td>\n",
       "      <td>500000.0</td>\n",
       "    </tr>\n",
       "    <tr>\n",
       "      <th>age</th>\n",
       "      <td>490496.0</td>\n",
       "      <td>4.463071e+01</td>\n",
       "      <td>16.176153</td>\n",
       "      <td>5.0</td>\n",
       "      <td>27.00</td>\n",
       "      <td>50.00</td>\n",
       "      <td>58.00</td>\n",
       "      <td>90.0</td>\n",
       "    </tr>\n",
       "    <tr>\n",
       "      <th>income</th>\n",
       "      <td>480711.0</td>\n",
       "      <td>4.999817e+04</td>\n",
       "      <td>28897.827794</td>\n",
       "      <td>0.0</td>\n",
       "      <td>25000.00</td>\n",
       "      <td>50000.00</td>\n",
       "      <td>75000.00</td>\n",
       "      <td>100000.0</td>\n",
       "    </tr>\n",
       "    <tr>\n",
       "      <th>same_address</th>\n",
       "      <td>490496.0</td>\n",
       "      <td>9.305377e-01</td>\n",
       "      <td>0.254239</td>\n",
       "      <td>0.0</td>\n",
       "      <td>1.00</td>\n",
       "      <td>1.00</td>\n",
       "      <td>1.00</td>\n",
       "      <td>1.0</td>\n",
       "    </tr>\n",
       "    <tr>\n",
       "      <th>transactionID</th>\n",
       "      <td>490496.0</td>\n",
       "      <td>1.534202e+06</td>\n",
       "      <td>418827.975187</td>\n",
       "      <td>76.0</td>\n",
       "      <td>1328190.75</td>\n",
       "      <td>1659686.50</td>\n",
       "      <td>1857921.25</td>\n",
       "      <td>2000000.0</td>\n",
       "    </tr>\n",
       "    <tr>\n",
       "      <th>...</th>\n",
       "      <td>...</td>\n",
       "      <td>...</td>\n",
       "      <td>...</td>\n",
       "      <td>...</td>\n",
       "      <td>...</td>\n",
       "      <td>...</td>\n",
       "      <td>...</td>\n",
       "      <td>...</td>\n",
       "    </tr>\n",
       "    <tr>\n",
       "      <th>money_lost_lst_09_avg</th>\n",
       "      <td>452775.0</td>\n",
       "      <td>4.558257e+00</td>\n",
       "      <td>13.223073</td>\n",
       "      <td>0.0</td>\n",
       "      <td>0.00</td>\n",
       "      <td>0.00</td>\n",
       "      <td>0.00</td>\n",
       "      <td>200.0</td>\n",
       "    </tr>\n",
       "    <tr>\n",
       "      <th>late_lst_09_avg</th>\n",
       "      <td>452775.0</td>\n",
       "      <td>2.947874e-01</td>\n",
       "      <td>0.322444</td>\n",
       "      <td>0.0</td>\n",
       "      <td>0.00</td>\n",
       "      <td>0.25</td>\n",
       "      <td>0.50</td>\n",
       "      <td>1.0</td>\n",
       "    </tr>\n",
       "    <tr>\n",
       "      <th>price_lst_09_avg</th>\n",
       "      <td>452775.0</td>\n",
       "      <td>1.014531e+02</td>\n",
       "      <td>37.435170</td>\n",
       "      <td>3.0</td>\n",
       "      <td>77.50</td>\n",
       "      <td>101.50</td>\n",
       "      <td>125.50</td>\n",
       "      <td>200.0</td>\n",
       "    </tr>\n",
       "    <tr>\n",
       "      <th>late_payment_first_lst_09_avg</th>\n",
       "      <td>452775.0</td>\n",
       "      <td>9.005973e-01</td>\n",
       "      <td>0.934349</td>\n",
       "      <td>0.0</td>\n",
       "      <td>0.00</td>\n",
       "      <td>0.75</td>\n",
       "      <td>1.50</td>\n",
       "      <td>4.0</td>\n",
       "    </tr>\n",
       "    <tr>\n",
       "      <th>geo_risk_rank</th>\n",
       "      <td>490496.0</td>\n",
       "      <td>2.526131e+00</td>\n",
       "      <td>1.407079</td>\n",
       "      <td>0.0</td>\n",
       "      <td>1.00</td>\n",
       "      <td>3.00</td>\n",
       "      <td>4.00</td>\n",
       "      <td>5.0</td>\n",
       "    </tr>\n",
       "  </tbody>\n",
       "</table>\n",
       "<p>69 rows × 8 columns</p>\n",
       "</div>"
      ],
      "text/plain": [
       "                                  count          mean            std   min  \\\n",
       "customerID                     490496.0  2.499744e+05  144333.696329   1.0   \n",
       "age                            490496.0  4.463071e+01      16.176153   5.0   \n",
       "income                         480711.0  4.999817e+04   28897.827794   0.0   \n",
       "same_address                   490496.0  9.305377e-01       0.254239   0.0   \n",
       "transactionID                  490496.0  1.534202e+06  418827.975187  76.0   \n",
       "...                                 ...           ...            ...   ...   \n",
       "money_lost_lst_09_avg          452775.0  4.558257e+00      13.223073   0.0   \n",
       "late_lst_09_avg                452775.0  2.947874e-01       0.322444   0.0   \n",
       "price_lst_09_avg               452775.0  1.014531e+02      37.435170   3.0   \n",
       "late_payment_first_lst_09_avg  452775.0  9.005973e-01       0.934349   0.0   \n",
       "geo_risk_rank                  490496.0  2.526131e+00       1.407079   0.0   \n",
       "\n",
       "                                      25%         50%         75%        max  \n",
       "customerID                      124989.75   249979.50   374975.25   500000.0  \n",
       "age                                 27.00       50.00       58.00       90.0  \n",
       "income                           25000.00    50000.00    75000.00   100000.0  \n",
       "same_address                         1.00        1.00        1.00        1.0  \n",
       "transactionID                  1328190.75  1659686.50  1857921.25  2000000.0  \n",
       "...                                   ...         ...         ...        ...  \n",
       "money_lost_lst_09_avg                0.00        0.00        0.00      200.0  \n",
       "late_lst_09_avg                      0.00        0.25        0.50        1.0  \n",
       "price_lst_09_avg                    77.50      101.50      125.50      200.0  \n",
       "late_payment_first_lst_09_avg        0.00        0.75        1.50        4.0  \n",
       "geo_risk_rank                        1.00        3.00        4.00        5.0  \n",
       "\n",
       "[69 rows x 8 columns]"
      ]
     },
     "execution_count": 20,
     "metadata": {},
     "output_type": "execute_result"
    }
   ],
   "source": [
    "master_table.describe().T"
   ]
  },
  {
   "cell_type": "markdown",
   "id": "c5505e11",
   "metadata": {},
   "source": [
    "## Perform some basic quality check"
   ]
  },
  {
   "cell_type": "markdown",
   "id": "52be316e",
   "metadata": {},
   "source": [
    "Check if rows in data in Master tables are not duplicated"
   ]
  },
  {
   "cell_type": "code",
   "execution_count": 21,
   "id": "86fee208",
   "metadata": {
    "scrolled": true
   },
   "outputs": [
    {
     "name": "stdout",
     "output_type": "stream",
     "text": [
      "Data in Master table are NOT duplicated.\n"
     ]
    }
   ],
   "source": [
    "if master_table.customerID.nunique() == master_table.shape[0]:\n",
    "    print(\"Data in Master table are NOT duplicated.\")\n",
    "else:\n",
    "    print(\"Data in Master table ARE duplicated.\")"
   ]
  },
  {
   "cell_type": "markdown",
   "id": "9833c859",
   "metadata": {},
   "source": [
    "## Create  \"geo risk rating\""
   ]
  },
  {
   "cell_type": "markdown",
   "id": "a1ace222",
   "metadata": {},
   "source": [
    "rate addreses based on average risk "
   ]
  },
  {
   "cell_type": "code",
   "execution_count": 22,
   "id": "b3432eaf",
   "metadata": {},
   "outputs": [
    {
     "data": {
      "text/plain": [
       "Index(['customerID', 'sex', 'age', 'residentialAddress', 'postalAddress',\n",
       "       'income', 'residentialAddress_clean', 'postalAddress_clean',\n",
       "       'same_address', 'transactionID', 'shopID', 'price', 'paymentStatus1',\n",
       "       'paymentStatus2', 'paymentStatus3', 'paymentStatus4', 'late', 'default',\n",
       "       'defualted_payment', 'late_payment_first', 'money_lost', 'fraud',\n",
       "       'rank', 'default_lag1', 'defualted_payment_lag1', 'money_lost_lag1',\n",
       "       'late_lag1', 'price_lag1', 'late_payment_first_lag1', 'rank_reverse',\n",
       "       'hist_trans_count', 'hist_default_sum', 'hist_default_avg',\n",
       "       'hist_late_sum', 'hist_late_avg', 'hist_price_sum', 'hist_price_avg',\n",
       "       'default_lst_03_sum', 'defualted_payment_lst_03_sum',\n",
       "       'money_lost_lst_03_sum', 'late_lst_03_sum', 'price_lst_03_sum',\n",
       "       'late_payment_first_lst_03_sum', 'default_lst_03_avg',\n",
       "       'defualted_payment_lst_03_avg', 'money_lost_lst_03_avg',\n",
       "       'late_lst_03_avg', 'price_lst_03_avg', 'late_payment_first_lst_03_avg',\n",
       "       'default_lst_06_sum', 'defualted_payment_lst_06_sum',\n",
       "       'money_lost_lst_06_sum', 'late_lst_06_sum', 'price_lst_06_sum',\n",
       "       'late_payment_first_lst_06_sum', 'default_lst_06_avg',\n",
       "       'defualted_payment_lst_06_avg', 'money_lost_lst_06_avg',\n",
       "       'late_lst_06_avg', 'price_lst_06_avg', 'late_payment_first_lst_06_avg',\n",
       "       'default_lst_09_sum', 'defualted_payment_lst_09_sum',\n",
       "       'money_lost_lst_09_sum', 'late_lst_09_sum', 'price_lst_09_sum',\n",
       "       'late_payment_first_lst_09_sum', 'default_lst_09_avg',\n",
       "       'defualted_payment_lst_09_avg', 'money_lost_lst_09_avg',\n",
       "       'late_lst_09_avg', 'price_lst_09_avg', 'late_payment_first_lst_09_avg',\n",
       "       'geo_risk_rank'],\n",
       "      dtype='object')"
      ]
     },
     "execution_count": 22,
     "metadata": {},
     "output_type": "execute_result"
    }
   ],
   "source": [
    "master_table.columns"
   ]
  },
  {
   "cell_type": "code",
   "execution_count": 23,
   "id": "4b0e215d",
   "metadata": {},
   "outputs": [],
   "source": [
    "_tmp = master_table.groupby('residentialAddress_clean')[['hist_default_sum','hist_trans_count']]. \\\n",
    "    sum().reset_index().assign(dr = lambda x: x['hist_default_sum']/x['hist_trans_count'])"
   ]
  },
  {
   "cell_type": "code",
   "execution_count": 24,
   "id": "f394a0d5",
   "metadata": {},
   "outputs": [
    {
     "data": {
      "text/plain": [
       "<AxesSubplot:>"
      ]
     },
     "execution_count": 24,
     "metadata": {},
     "output_type": "execute_result"
    },
    {
     "data": {
      "image/png": "[encoded data removed]",
      "text/plain": [
       "<Figure size 432x288 with 1 Axes>"
      ]
     },
     "metadata": {
      "needs_background": "light"
     },
     "output_type": "display_data"
    }
   ],
   "source": [
    "_tmp.dr.hist()"
   ]
  },
  {
   "cell_type": "code",
   "execution_count": 25,
   "id": "a41110a3",
   "metadata": {},
   "outputs": [
    {
     "data": {
      "text/plain": [
       "array([0.04860437, 0.07142857, 0.08834466, 0.10666667, 0.1372549 ])"
      ]
     },
     "execution_count": 25,
     "metadata": {},
     "output_type": "execute_result"
    }
   ],
   "source": [
    "np.quantile(_tmp.dr, [i/10 for i in list(range(1,10,2))], axis=0)"
   ]
  },
  {
   "cell_type": "code",
   "execution_count": 26,
   "id": "4ff913e9",
   "metadata": {},
   "outputs": [],
   "source": [
    "bins = [-np.inf, 0.049, 0.071, 0.088, 0.107, 0.137, np.inf]"
   ]
  },
  {
   "cell_type": "code",
   "execution_count": 27,
   "id": "155f307d",
   "metadata": {},
   "outputs": [],
   "source": [
    "geo_risk_rank = master_table.groupby('residentialAddress_clean')[['hist_default_sum','hist_trans_count']]. \\\n",
    "    sum().reset_index().assign(geo_risk_rank = lambda x: pd.cut(x['hist_default_sum']/x['hist_trans_count'], bins).cat.codes)\n"
   ]
  },
  {
   "cell_type": "code",
   "execution_count": 28,
   "id": "28f9c4e0",
   "metadata": {},
   "outputs": [],
   "source": [
    "master_table = master_table.merge(geo_risk_rank[['residentialAddress_clean','geo_risk_rank']], on='residentialAddress_clean', how='left')"
   ]
  },
  {
   "cell_type": "code",
   "execution_count": 29,
   "id": "0b5027ec",
   "metadata": {},
   "outputs": [
    {
     "data": {
      "text/html": [
       "<div>\n",
       "<style scoped>\n",
       "    .dataframe tbody tr th:only-of-type {\n",
       "        vertical-align: middle;\n",
       "    }\n",
       "\n",
       "    .dataframe tbody tr th {\n",
       "        vertical-align: top;\n",
       "    }\n",
       "\n",
       "    .dataframe thead th {\n",
       "        text-align: right;\n",
       "    }\n",
       "</style>\n",
       "<table border=\"1\" class=\"dataframe\">\n",
       "  <thead>\n",
       "    <tr style=\"text-align: right;\">\n",
       "      <th></th>\n",
       "      <th>customerID</th>\n",
       "      <th>sex</th>\n",
       "      <th>age</th>\n",
       "      <th>residentialAddress</th>\n",
       "      <th>postalAddress</th>\n",
       "      <th>income</th>\n",
       "      <th>residentialAddress_clean</th>\n",
       "      <th>postalAddress_clean</th>\n",
       "      <th>same_address</th>\n",
       "      <th>transactionID</th>\n",
       "      <th>...</th>\n",
       "      <th>price_lst_09_sum</th>\n",
       "      <th>late_payment_first_lst_09_sum</th>\n",
       "      <th>default_lst_09_avg</th>\n",
       "      <th>defualted_payment_lst_09_avg</th>\n",
       "      <th>money_lost_lst_09_avg</th>\n",
       "      <th>late_lst_09_avg</th>\n",
       "      <th>price_lst_09_avg</th>\n",
       "      <th>late_payment_first_lst_09_avg</th>\n",
       "      <th>geo_risk_rank_x</th>\n",
       "      <th>geo_risk_rank_y</th>\n",
       "    </tr>\n",
       "  </thead>\n",
       "  <tbody>\n",
       "    <tr>\n",
       "      <th>0</th>\n",
       "      <td>1</td>\n",
       "      <td>male</td>\n",
       "      <td>25</td>\n",
       "      <td>28 Irvine Place</td>\n",
       "      <td>28 Irvine Place</td>\n",
       "      <td>NaN</td>\n",
       "      <td>Irvine Place</td>\n",
       "      <td>Irvine Place</td>\n",
       "      <td>1</td>\n",
       "      <td>1697842.0</td>\n",
       "      <td>...</td>\n",
       "      <td>358.0</td>\n",
       "      <td>1.0</td>\n",
       "      <td>0.000</td>\n",
       "      <td>0.00</td>\n",
       "      <td>0.0000</td>\n",
       "      <td>0.333333</td>\n",
       "      <td>119.333333</td>\n",
       "      <td>0.333333</td>\n",
       "      <td>4</td>\n",
       "      <td>4</td>\n",
       "    </tr>\n",
       "    <tr>\n",
       "      <th>1</th>\n",
       "      <td>2</td>\n",
       "      <td>male</td>\n",
       "      <td>19</td>\n",
       "      <td>72 Bertha Street</td>\n",
       "      <td>72 Bertha Street</td>\n",
       "      <td>43200.0</td>\n",
       "      <td>Bertha Street</td>\n",
       "      <td>Bertha Street</td>\n",
       "      <td>1</td>\n",
       "      <td>1834257.0</td>\n",
       "      <td>...</td>\n",
       "      <td>599.0</td>\n",
       "      <td>2.0</td>\n",
       "      <td>0.000</td>\n",
       "      <td>0.00</td>\n",
       "      <td>0.0000</td>\n",
       "      <td>0.333333</td>\n",
       "      <td>99.833333</td>\n",
       "      <td>0.333333</td>\n",
       "      <td>2</td>\n",
       "      <td>2</td>\n",
       "    </tr>\n",
       "    <tr>\n",
       "      <th>2</th>\n",
       "      <td>3</td>\n",
       "      <td>female</td>\n",
       "      <td>22</td>\n",
       "      <td>63 Ladberry Street</td>\n",
       "      <td>63 Ladberry Street</td>\n",
       "      <td>70200.0</td>\n",
       "      <td>Ladberry Street</td>\n",
       "      <td>Ladberry Street</td>\n",
       "      <td>1</td>\n",
       "      <td>1974624.0</td>\n",
       "      <td>...</td>\n",
       "      <td>781.0</td>\n",
       "      <td>4.0</td>\n",
       "      <td>0.125</td>\n",
       "      <td>0.25</td>\n",
       "      <td>6.1875</td>\n",
       "      <td>0.125000</td>\n",
       "      <td>97.625000</td>\n",
       "      <td>0.500000</td>\n",
       "      <td>1</td>\n",
       "      <td>1</td>\n",
       "    </tr>\n",
       "    <tr>\n",
       "      <th>3</th>\n",
       "      <td>4</td>\n",
       "      <td>other</td>\n",
       "      <td>24</td>\n",
       "      <td>98 Linneman Close</td>\n",
       "      <td>98 Linneman Close</td>\n",
       "      <td>93900.0</td>\n",
       "      <td>Linneman Close</td>\n",
       "      <td>Linneman Close</td>\n",
       "      <td>1</td>\n",
       "      <td>1536291.0</td>\n",
       "      <td>...</td>\n",
       "      <td>NaN</td>\n",
       "      <td>NaN</td>\n",
       "      <td>NaN</td>\n",
       "      <td>NaN</td>\n",
       "      <td>NaN</td>\n",
       "      <td>NaN</td>\n",
       "      <td>NaN</td>\n",
       "      <td>NaN</td>\n",
       "      <td>3</td>\n",
       "      <td>3</td>\n",
       "    </tr>\n",
       "    <tr>\n",
       "      <th>4</th>\n",
       "      <td>5</td>\n",
       "      <td>male</td>\n",
       "      <td>53</td>\n",
       "      <td>56 Salonica Road</td>\n",
       "      <td>56 Salonica Road</td>\n",
       "      <td>77000.0</td>\n",
       "      <td>Salonica Road</td>\n",
       "      <td>Salonica Road</td>\n",
       "      <td>1</td>\n",
       "      <td>661121.0</td>\n",
       "      <td>...</td>\n",
       "      <td>289.0</td>\n",
       "      <td>10.0</td>\n",
       "      <td>0.500</td>\n",
       "      <td>1.75</td>\n",
       "      <td>13.5625</td>\n",
       "      <td>0.500000</td>\n",
       "      <td>72.250000</td>\n",
       "      <td>2.500000</td>\n",
       "      <td>4</td>\n",
       "      <td>4</td>\n",
       "    </tr>\n",
       "    <tr>\n",
       "      <th>...</th>\n",
       "      <td>...</td>\n",
       "      <td>...</td>\n",
       "      <td>...</td>\n",
       "      <td>...</td>\n",
       "      <td>...</td>\n",
       "      <td>...</td>\n",
       "      <td>...</td>\n",
       "      <td>...</td>\n",
       "      <td>...</td>\n",
       "      <td>...</td>\n",
       "      <td>...</td>\n",
       "      <td>...</td>\n",
       "      <td>...</td>\n",
       "      <td>...</td>\n",
       "      <td>...</td>\n",
       "      <td>...</td>\n",
       "      <td>...</td>\n",
       "      <td>...</td>\n",
       "      <td>...</td>\n",
       "      <td>...</td>\n",
       "      <td>...</td>\n",
       "    </tr>\n",
       "    <tr>\n",
       "      <th>490491</th>\n",
       "      <td>499996</td>\n",
       "      <td>male</td>\n",
       "      <td>68</td>\n",
       "      <td>95 Argyle Parade</td>\n",
       "      <td>95 Argyle Parade</td>\n",
       "      <td>40500.0</td>\n",
       "      <td>Argyle Parade</td>\n",
       "      <td>Argyle Parade</td>\n",
       "      <td>1</td>\n",
       "      <td>665043.0</td>\n",
       "      <td>...</td>\n",
       "      <td>173.0</td>\n",
       "      <td>0.0</td>\n",
       "      <td>0.000</td>\n",
       "      <td>0.00</td>\n",
       "      <td>0.0000</td>\n",
       "      <td>0.000000</td>\n",
       "      <td>173.000000</td>\n",
       "      <td>0.000000</td>\n",
       "      <td>4</td>\n",
       "      <td>4</td>\n",
       "    </tr>\n",
       "    <tr>\n",
       "      <th>490492</th>\n",
       "      <td>499997</td>\n",
       "      <td>female</td>\n",
       "      <td>22</td>\n",
       "      <td>34 Bearke Place</td>\n",
       "      <td>34 Bearke Place</td>\n",
       "      <td>44900.0</td>\n",
       "      <td>Bearke Place</td>\n",
       "      <td>Bearke Place</td>\n",
       "      <td>1</td>\n",
       "      <td>1756533.0</td>\n",
       "      <td>...</td>\n",
       "      <td>181.0</td>\n",
       "      <td>0.0</td>\n",
       "      <td>0.000</td>\n",
       "      <td>0.00</td>\n",
       "      <td>0.0000</td>\n",
       "      <td>0.000000</td>\n",
       "      <td>90.500000</td>\n",
       "      <td>0.000000</td>\n",
       "      <td>2</td>\n",
       "      <td>2</td>\n",
       "    </tr>\n",
       "    <tr>\n",
       "      <th>490493</th>\n",
       "      <td>499998</td>\n",
       "      <td>male</td>\n",
       "      <td>27</td>\n",
       "      <td>95 Glenhurst Street</td>\n",
       "      <td>95 Glenhurst Street</td>\n",
       "      <td>48700.0</td>\n",
       "      <td>Glenhurst Street</td>\n",
       "      <td>Glenhurst Street</td>\n",
       "      <td>1</td>\n",
       "      <td>1628579.0</td>\n",
       "      <td>...</td>\n",
       "      <td>354.0</td>\n",
       "      <td>0.0</td>\n",
       "      <td>0.000</td>\n",
       "      <td>0.00</td>\n",
       "      <td>0.0000</td>\n",
       "      <td>0.000000</td>\n",
       "      <td>88.500000</td>\n",
       "      <td>0.000000</td>\n",
       "      <td>0</td>\n",
       "      <td>0</td>\n",
       "    </tr>\n",
       "    <tr>\n",
       "      <th>490494</th>\n",
       "      <td>499999</td>\n",
       "      <td>male</td>\n",
       "      <td>55</td>\n",
       "      <td>34 Kiandra Close</td>\n",
       "      <td>34 Kiandra Close</td>\n",
       "      <td>7600.0</td>\n",
       "      <td>Kiandra Close</td>\n",
       "      <td>Kiandra Close</td>\n",
       "      <td>1</td>\n",
       "      <td>1722718.0</td>\n",
       "      <td>...</td>\n",
       "      <td>664.0</td>\n",
       "      <td>0.0</td>\n",
       "      <td>0.000</td>\n",
       "      <td>0.00</td>\n",
       "      <td>0.0000</td>\n",
       "      <td>0.000000</td>\n",
       "      <td>132.800000</td>\n",
       "      <td>0.000000</td>\n",
       "      <td>1</td>\n",
       "      <td>1</td>\n",
       "    </tr>\n",
       "    <tr>\n",
       "      <th>490495</th>\n",
       "      <td>500000</td>\n",
       "      <td>female</td>\n",
       "      <td>42</td>\n",
       "      <td>46 Altola Street</td>\n",
       "      <td>46 Altola Street</td>\n",
       "      <td>84700.0</td>\n",
       "      <td>Altola Street</td>\n",
       "      <td>Altola Street</td>\n",
       "      <td>1</td>\n",
       "      <td>1591096.0</td>\n",
       "      <td>...</td>\n",
       "      <td>20.0</td>\n",
       "      <td>0.0</td>\n",
       "      <td>0.000</td>\n",
       "      <td>0.00</td>\n",
       "      <td>0.0000</td>\n",
       "      <td>0.000000</td>\n",
       "      <td>20.000000</td>\n",
       "      <td>0.000000</td>\n",
       "      <td>1</td>\n",
       "      <td>1</td>\n",
       "    </tr>\n",
       "  </tbody>\n",
       "</table>\n",
       "<p>490496 rows × 75 columns</p>\n",
       "</div>"
      ],
      "text/plain": [
       "        customerID     sex  age   residentialAddress        postalAddress  \\\n",
       "0                1    male   25      28 Irvine Place      28 Irvine Place   \n",
       "1                2    male   19     72 Bertha Street     72 Bertha Street   \n",
       "2                3  female   22   63 Ladberry Street   63 Ladberry Street   \n",
       "3                4   other   24    98 Linneman Close    98 Linneman Close   \n",
       "4                5    male   53     56 Salonica Road     56 Salonica Road   \n",
       "...            ...     ...  ...                  ...                  ...   \n",
       "490491      499996    male   68     95 Argyle Parade     95 Argyle Parade   \n",
       "490492      499997  female   22      34 Bearke Place      34 Bearke Place   \n",
       "490493      499998    male   27  95 Glenhurst Street  95 Glenhurst Street   \n",
       "490494      499999    male   55     34 Kiandra Close     34 Kiandra Close   \n",
       "490495      500000  female   42     46 Altola Street     46 Altola Street   \n",
       "\n",
       "         income residentialAddress_clean postalAddress_clean  same_address  \\\n",
       "0           NaN             Irvine Place        Irvine Place             1   \n",
       "1       43200.0            Bertha Street       Bertha Street             1   \n",
       "2       70200.0          Ladberry Street     Ladberry Street             1   \n",
       "3       93900.0           Linneman Close      Linneman Close             1   \n",
       "4       77000.0            Salonica Road       Salonica Road             1   \n",
       "...         ...                      ...                 ...           ...   \n",
       "490491  40500.0            Argyle Parade       Argyle Parade             1   \n",
       "490492  44900.0             Bearke Place        Bearke Place             1   \n",
       "490493  48700.0         Glenhurst Street    Glenhurst Street             1   \n",
       "490494   7600.0            Kiandra Close       Kiandra Close             1   \n",
       "490495  84700.0            Altola Street       Altola Street             1   \n",
       "\n",
       "        transactionID  ...  price_lst_09_sum  late_payment_first_lst_09_sum  \\\n",
       "0           1697842.0  ...             358.0                            1.0   \n",
       "1           1834257.0  ...             599.0                            2.0   \n",
       "2           1974624.0  ...             781.0                            4.0   \n",
       "3           1536291.0  ...               NaN                            NaN   \n",
       "4            661121.0  ...             289.0                           10.0   \n",
       "...               ...  ...               ...                            ...   \n",
       "490491       665043.0  ...             173.0                            0.0   \n",
       "490492      1756533.0  ...             181.0                            0.0   \n",
       "490493      1628579.0  ...             354.0                            0.0   \n",
       "490494      1722718.0  ...             664.0                            0.0   \n",
       "490495      1591096.0  ...              20.0                            0.0   \n",
       "\n",
       "        default_lst_09_avg  defualted_payment_lst_09_avg  \\\n",
       "0                    0.000                          0.00   \n",
       "1                    0.000                          0.00   \n",
       "2                    0.125                          0.25   \n",
       "3                      NaN                           NaN   \n",
       "4                    0.500                          1.75   \n",
       "...                    ...                           ...   \n",
       "490491               0.000                          0.00   \n",
       "490492               0.000                          0.00   \n",
       "490493               0.000                          0.00   \n",
       "490494               0.000                          0.00   \n",
       "490495               0.000                          0.00   \n",
       "\n",
       "        money_lost_lst_09_avg  late_lst_09_avg  price_lst_09_avg  \\\n",
       "0                      0.0000         0.333333        119.333333   \n",
       "1                      0.0000         0.333333         99.833333   \n",
       "2                      6.1875         0.125000         97.625000   \n",
       "3                         NaN              NaN               NaN   \n",
       "4                     13.5625         0.500000         72.250000   \n",
       "...                       ...              ...               ...   \n",
       "490491                 0.0000         0.000000        173.000000   \n",
       "490492                 0.0000         0.000000         90.500000   \n",
       "490493                 0.0000         0.000000         88.500000   \n",
       "490494                 0.0000         0.000000        132.800000   \n",
       "490495                 0.0000         0.000000         20.000000   \n",
       "\n",
       "        late_payment_first_lst_09_avg  geo_risk_rank_x  geo_risk_rank_y  \n",
       "0                            0.333333                4                4  \n",
       "1                            0.333333                2                2  \n",
       "2                            0.500000                1                1  \n",
       "3                                 NaN                3                3  \n",
       "4                            2.500000                4                4  \n",
       "...                               ...              ...              ...  \n",
       "490491                       0.000000                4                4  \n",
       "490492                       0.000000                2                2  \n",
       "490493                       0.000000                0                0  \n",
       "490494                       0.000000                1                1  \n",
       "490495                       0.000000                1                1  \n",
       "\n",
       "[490496 rows x 75 columns]"
      ]
     },
     "execution_count": 29,
     "metadata": {},
     "output_type": "execute_result"
    }
   ],
   "source": [
    "master_table"
   ]
  },
  {
   "cell_type": "markdown",
   "id": "2a67a0f0",
   "metadata": {},
   "source": [
    "# Model - initial model only to get intuition about model features"
   ]
  },
  {
   "cell_type": "code",
   "execution_count": 38,
   "id": "dd6e5816",
   "metadata": {},
   "outputs": [],
   "source": [
    "categorical_cols = ['sex', 'residentialAddress_clean','postalAddress_clean',\n",
    "                    'shopID',\n",
    "                    'same_address']\n",
    "numerical_cols = ['age', 'income', 'price'] + \\\n",
    "    master_table.filter(regex='(^hist_)|(_lst_)').columns.to_list()\n",
    "\n",
    "target_def = 'default'\n",
    "target_late = 'late'"
   ]
  },
  {
   "cell_type": "code",
   "execution_count": 39,
   "id": "5e0b5509",
   "metadata": {
    "scrolled": false
   },
   "outputs": [
    {
     "data": {
      "text/plain": [
       "[]"
      ]
     },
     "execution_count": 39,
     "metadata": {},
     "output_type": "execute_result"
    }
   ],
   "source": [
    "[i for i in categorical_cols if i not in master_table.columns]"
   ]
  },
  {
   "cell_type": "code",
   "execution_count": 40,
   "id": "d54465bd",
   "metadata": {},
   "outputs": [
    {
     "data": {
      "text/plain": [
       "[]"
      ]
     },
     "execution_count": 40,
     "metadata": {},
     "output_type": "execute_result"
    }
   ],
   "source": [
    "[i for i in numerical_cols if i not in master_table.columns]"
   ]
  },
  {
   "cell_type": "code",
   "execution_count": 41,
   "id": "cb1cea28",
   "metadata": {},
   "outputs": [],
   "source": [
    "import numpy as np\n",
    "from category_encoders import *\n",
    "\n",
    "from sklearn.feature_extraction.text import TfidfVectorizer\n",
    "from sklearn.compose import ColumnTransformer\n",
    "from sklearn.pipeline import make_pipeline\n",
    "from sklearn import metrics\n",
    "\n",
    "import lightgbm as lgb"
   ]
  },
  {
   "cell_type": "code",
   "execution_count": 42,
   "id": "62bc837d",
   "metadata": {},
   "outputs": [],
   "source": [
    "pipe = ColumnTransformer([\n",
    "        ('num','passthrough',numerical_cols),\n",
    "        ('te', WOEEncoder(), categorical_cols),\n",
    "    ])"
   ]
  },
  {
   "cell_type": "code",
   "execution_count": 43,
   "id": "d2570e9f",
   "metadata": {},
   "outputs": [],
   "source": [
    "#df_cust_trans_new_cust = df_cust_trans.loc[df_cust_trans['rank']==1].reset_index(drop=True)\n",
    "#df_cust_trans_old_cust = df_cust_trans.loc[df_cust_trans['rank']>1].reset_index(drop=True)"
   ]
  },
  {
   "cell_type": "code",
   "execution_count": 44,
   "id": "554641dc",
   "metadata": {},
   "outputs": [],
   "source": [
    "#df_tr_cust_trans_new_cust = pipe_new.fit_transform(df_cust_trans_new_cust, df_cust_trans_new_cust.default)\n",
    "#df_tr_cust_trans_old_cust= pipe_old.fit_transform(df_cust_trans_old_cust, df_cust_trans_old_cust.default)\n"
   ]
  },
  {
   "cell_type": "code",
   "execution_count": 45,
   "id": "34f8ee61",
   "metadata": {},
   "outputs": [],
   "source": [
    "df_tr_cust_trans = pipe.fit_transform(master_table, master_table.default)"
   ]
  },
  {
   "cell_type": "code",
   "execution_count": 46,
   "id": "1d12bce6",
   "metadata": {},
   "outputs": [],
   "source": [
    "master_table.drop(columns=['geo_risk_rank_x','geo_risk_rank_y'], inplace=True)"
   ]
  },
  {
   "cell_type": "code",
   "execution_count": 47,
   "id": "d03a5a31",
   "metadata": {},
   "outputs": [],
   "source": [
    "d_train = lgb.Dataset(\n",
    "    df_tr_cust_trans, \n",
    "    label=master_table.default, \n",
    "    feature_name=pipe.get_feature_names())"
   ]
  },
  {
   "cell_type": "code",
   "execution_count": 48,
   "id": "8ac57148",
   "metadata": {},
   "outputs": [],
   "source": [
    "lgb_params = {#\"learning_rate\": 0.01,\n",
    "              #\"num_leaves\": 16,\n",
    "              #\"min_data_in_leaf\": 20,\n",
    "              #\"max_depth\": 20,\n",
    "              #\"boosting\": \"gbdt\",\n",
    "              \"num_iterations\": 500,\n",
    "              #\"bagging_fraction\": 0.6,\n",
    "              #\"feature_fraction\": 1.0,\n",
    "              \"seed\": 42,\n",
    "              \"num_threads\": -1,\n",
    "              \"objective\": \"binary\", \n",
    "              \"metric\": \"auc\"\n",
    "              }"
   ]
  },
  {
   "cell_type": "code",
   "execution_count": 49,
   "id": "eee51c93",
   "metadata": {},
   "outputs": [
    {
     "name": "stderr",
     "output_type": "stream",
     "text": [
      "/Users/xszpo/miniconda3/envs/viabill/lib/python3.8/site-packages/lightgbm/engine.py:527: UserWarning: Found `num_iterations` in params. Will use it instead of argument\n",
      "  _log_warning(\"Found `{}` in params. Will use it instead of argument\".format(alias))\n"
     ]
    },
    {
     "name": "stdout",
     "output_type": "stream",
     "text": [
      "[LightGBM] [Info] Number of positive: 35688, number of negative: 356708\n",
      "[LightGBM] [Warning] Auto-choosing row-wise multi-threading, the overhead of testing was 0.126578 seconds.\n",
      "You can set `force_row_wise=true` to remove the overhead.\n",
      "And if memory is not enough, you can set `force_col_wise=true`.\n",
      "[LightGBM] [Info] Total Bins 5592\n",
      "[LightGBM] [Info] Number of data points in the train set: 392396, number of used features: 51\n",
      "[LightGBM] [Info] Number of positive: 35688, number of negative: 356709\n",
      "[LightGBM] [Warning] Auto-choosing col-wise multi-threading, the overhead of testing was 0.322672 seconds.\n",
      "You can set `force_col_wise=true` to remove the overhead.\n",
      "[LightGBM] [Info] Total Bins 5592\n",
      "[LightGBM] [Info] Number of data points in the train set: 392397, number of used features: 51\n",
      "[LightGBM] [Info] Number of positive: 35688, number of negative: 356709\n",
      "[LightGBM] [Warning] Auto-choosing row-wise multi-threading, the overhead of testing was 0.179838 seconds.\n",
      "You can set `force_row_wise=true` to remove the overhead.\n",
      "And if memory is not enough, you can set `force_col_wise=true`.\n",
      "[LightGBM] [Info] Total Bins 5592\n",
      "[LightGBM] [Info] Number of data points in the train set: 392397, number of used features: 51\n",
      "[LightGBM] [Info] Number of positive: 35688, number of negative: 356709\n",
      "[LightGBM] [Warning] Auto-choosing row-wise multi-threading, the overhead of testing was 0.155300 seconds.\n",
      "You can set `force_row_wise=true` to remove the overhead.\n",
      "And if memory is not enough, you can set `force_col_wise=true`.\n",
      "[LightGBM] [Info] Total Bins 5592\n",
      "[LightGBM] [Info] Number of data points in the train set: 392397, number of used features: 51\n",
      "[LightGBM] [Info] Number of positive: 35688, number of negative: 356709\n",
      "[LightGBM] [Warning] Auto-choosing row-wise multi-threading, the overhead of testing was 0.148285 seconds.\n",
      "You can set `force_row_wise=true` to remove the overhead.\n",
      "And if memory is not enough, you can set `force_col_wise=true`.\n",
      "[LightGBM] [Info] Total Bins 5592\n",
      "[LightGBM] [Info] Number of data points in the train set: 392397, number of used features: 51\n",
      "[LightGBM] [Info] [binary:BoostFromScore]: pavg=0.090949 -> initscore=-2.302103\n",
      "[LightGBM] [Info] Start training from score -2.302103\n",
      "[LightGBM] [Info] [binary:BoostFromScore]: pavg=0.090949 -> initscore=-2.302106\n",
      "[LightGBM] [Info] Start training from score -2.302106\n",
      "[LightGBM] [Info] [binary:BoostFromScore]: pavg=0.090949 -> initscore=-2.302106\n",
      "[LightGBM] [Info] Start training from score -2.302106\n",
      "[LightGBM] [Info] [binary:BoostFromScore]: pavg=0.090949 -> initscore=-2.302106\n",
      "[LightGBM] [Info] Start training from score -2.302106\n",
      "[LightGBM] [Info] [binary:BoostFromScore]: pavg=0.090949 -> initscore=-2.302106\n",
      "[LightGBM] [Info] Start training from score -2.302106\n",
      "[20]\tcv_agg's auc: 0.746095 + 0.00166226\n",
      "[40]\tcv_agg's auc: 0.746747 + 0.0016244\n",
      "[60]\tcv_agg's auc: 0.746567 + 0.00164846\n",
      "[80]\tcv_agg's auc: 0.746328 + 0.0016719\n"
     ]
    }
   ],
   "source": [
    "cv_results = lgb.cv(lgb_params, d_train, nfold=5, verbose_eval=20, early_stopping_rounds=40)"
   ]
  },
  {
   "cell_type": "code",
   "execution_count": 50,
   "id": "03363455",
   "metadata": {},
   "outputs": [
    {
     "name": "stderr",
     "output_type": "stream",
     "text": [
      "/Users/xszpo/miniconda3/envs/viabill/lib/python3.8/site-packages/lightgbm/engine.py:148: UserWarning: Found `num_iterations` in params. Will use it instead of argument\n",
      "  _log_warning(\"Found `{}` in params. Will use it instead of argument\".format(alias))\n"
     ]
    },
    {
     "name": "stdout",
     "output_type": "stream",
     "text": [
      "[LightGBM] [Info] Number of positive: 44610, number of negative: 445886\n",
      "[LightGBM] [Warning] Auto-choosing row-wise multi-threading, the overhead of testing was 0.187512 seconds.\n",
      "You can set `force_row_wise=true` to remove the overhead.\n",
      "And if memory is not enough, you can set `force_col_wise=true`.\n",
      "[LightGBM] [Info] Total Bins 5592\n",
      "[LightGBM] [Info] Number of data points in the train set: 490496, number of used features: 51\n",
      "[LightGBM] [Info] [binary:BoostFromScore]: pavg=0.090949 -> initscore=-2.302105\n",
      "[LightGBM] [Info] Start training from score -2.302105\n"
     ]
    },
    {
     "data": {
      "text/plain": [
       "<AxesSubplot:title={'center':'Feature importance'}, xlabel='Feature importance', ylabel='Features'>"
      ]
     },
     "execution_count": 50,
     "metadata": {},
     "output_type": "execute_result"
    },
    {
     "data": {
      "image/png": "[encoded data removed]",
      "text/plain": [
       "<Figure size 720x720 with 1 Axes>"
      ]
     },
     "metadata": {
      "needs_background": "light"
     },
     "output_type": "display_data"
    }
   ],
   "source": [
    "model= lgb.train(lgb_params, d_train)\n",
    "fig, ax2 = plt.subplots(figsize=(10,10))\n",
    "lgb.plot_importance(model, max_num_features=15, ax=ax2, importance_type = 'gain')"
   ]
  }
 ],
 "metadata": {
  "kernelspec": {
   "display_name": "viabill",
   "language": "python",
   "name": "python3"
  },
  "language_info": {
   "codemirror_mode": {
    "name": "ipython",
    "version": 3
   },
   "file_extension": ".py",
   "mimetype": "text/x-python",
   "name": "python",
   "nbconvert_exporter": "python",
   "pygments_lexer": "ipython3",
   "version": "3.8.8"
  }
 },
 "nbformat": 4,
 "nbformat_minor": 5
}
